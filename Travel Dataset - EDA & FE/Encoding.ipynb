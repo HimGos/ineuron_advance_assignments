{
 "cells": [
  {
   "cell_type": "markdown",
   "source": [
    "# Encoding\n",
    "[Himanshu Goswami](https://github.com/HimGos) - October 2022"
   ],
   "metadata": {
    "collapsed": false,
    "pycharm": {
     "name": "#%% md\n"
    }
   }
  },
  {
   "cell_type": "markdown",
   "source": [
    "***I can't understand what is cat.*** - said the Machine Learning Algorithm.\n",
    "\n",
    "A machine learning algorithm needs to be able to understand the data it receives\n",
    "\n",
    "Often dataset contain categorical variables. These variables are typically stored as text values. Since machine learning is based on mathematical equations, it would cause a problem when we keep categorical variables as is.\n",
    "\n",
    "Categorical features are generally divided into 3 types:\n",
    "> **A.** **Binary** : Either/or\n",
    "> Examples:\n",
    "> - Yes, No\n",
    "> - True, False\n",
    ">\n",
    "> **B.** **Ordinal** : Specific ordered Groups.\n",
    "> Examples:\n",
    "> - low, medium, high\n",
    "> - cold, hot, lava Hot\n",
    ">\n",
    "> **C.** **Nominal** : Unordered Groups.\n",
    "> Examples\n",
    "> - cat, dog, tiger\n",
    "> - pizza, burger, coke\n",
    ">\n",
    "\n",
    "To discover them, we will see the following ways to encode categorical variables:\n",
    "\n",
    "***1. Label / Ordinal Encoding***\n",
    "***2. One-hot/dummy Encoding***\n",
    "***3. Target Encoding***\n",
    "***4. Frequency / count Encoding***\n",
    "***5. Binary Encoding***\n",
    "***6. Feature Hashing***"
   ],
   "metadata": {
    "collapsed": false,
    "pycharm": {
     "name": "#%% md\n"
    }
   }
  },
  {
   "cell_type": "markdown",
   "source": [],
   "metadata": {
    "collapsed": false,
    "pycharm": {
     "name": "#%% md\n"
    }
   }
  },
  {
   "cell_type": "code",
   "execution_count": 1,
   "outputs": [],
   "source": [
    "# Importing Required Libraries\n",
    "\n",
    "import pandas as pd\n",
    "import numpy as np\n",
    "import warnings\n",
    "warnings.filterwarnings(\"ignore\")\n",
    "import matplotlib.pyplot as plt\n",
    "import seaborn as sns\n"
   ],
   "metadata": {
    "collapsed": false,
    "pycharm": {
     "name": "#%%\n"
    }
   }
  },
  {
   "cell_type": "code",
   "execution_count": 2,
   "outputs": [],
   "source": [
    "# Loading Dataset\n",
    "\n",
    "df =  pd.read_csv(\"data/Travel.csv\")\n",
    "\n",
    "df_orig = df.copy()"
   ],
   "metadata": {
    "collapsed": false,
    "pycharm": {
     "name": "#%%\n"
    }
   }
  },
  {
   "cell_type": "code",
   "execution_count": 3,
   "outputs": [
    {
     "data": {
      "text/plain": "   ProdTaken   Age    TypeofContact  CityTier  DurationOfPitch  \\\n0          1  41.0     Self Enquiry         3              6.0   \n1          0  49.0  Company Invited         1             14.0   \n2          1  37.0     Self Enquiry         1              8.0   \n3          0  33.0  Company Invited         1              9.0   \n4          0   NaN     Self Enquiry         1              8.0   \n\n       Occupation  Gender  NumberOfPersonVisiting  NumberOfFollowups  \\\n0        Salaried  Female                       3                3.0   \n1        Salaried    Male                       3                4.0   \n2     Free Lancer    Male                       3                4.0   \n3        Salaried  Female                       2                3.0   \n4  Small Business    Male                       2                3.0   \n\n  ProductPitched  PreferredPropertyStar MaritalStatus  NumberOfTrips  \\\n0         Deluxe                    3.0        Single            1.0   \n1         Deluxe                    4.0      Divorced            2.0   \n2          Basic                    3.0        Single            7.0   \n3          Basic                    3.0      Divorced            2.0   \n4          Basic                    4.0      Divorced            1.0   \n\n   Passport  PitchSatisfactionScore  OwnCar  NumberOfChildrenVisiting  \\\n0         1                       2       1                       0.0   \n1         0                       3       1                       2.0   \n2         1                       3       0                       0.0   \n3         1                       5       1                       1.0   \n4         0                       5       1                       0.0   \n\n  Designation  MonthlyIncome  \n0     Manager        20993.0  \n1     Manager        20130.0  \n2   Executive        17090.0  \n3   Executive        17909.0  \n4   Executive        18468.0  ",
      "text/html": "<div>\n<style scoped>\n    .dataframe tbody tr th:only-of-type {\n        vertical-align: middle;\n    }\n\n    .dataframe tbody tr th {\n        vertical-align: top;\n    }\n\n    .dataframe thead th {\n        text-align: right;\n    }\n</style>\n<table border=\"1\" class=\"dataframe\">\n  <thead>\n    <tr style=\"text-align: right;\">\n      <th></th>\n      <th>ProdTaken</th>\n      <th>Age</th>\n      <th>TypeofContact</th>\n      <th>CityTier</th>\n      <th>DurationOfPitch</th>\n      <th>Occupation</th>\n      <th>Gender</th>\n      <th>NumberOfPersonVisiting</th>\n      <th>NumberOfFollowups</th>\n      <th>ProductPitched</th>\n      <th>PreferredPropertyStar</th>\n      <th>MaritalStatus</th>\n      <th>NumberOfTrips</th>\n      <th>Passport</th>\n      <th>PitchSatisfactionScore</th>\n      <th>OwnCar</th>\n      <th>NumberOfChildrenVisiting</th>\n      <th>Designation</th>\n      <th>MonthlyIncome</th>\n    </tr>\n  </thead>\n  <tbody>\n    <tr>\n      <th>0</th>\n      <td>1</td>\n      <td>41.0</td>\n      <td>Self Enquiry</td>\n      <td>3</td>\n      <td>6.0</td>\n      <td>Salaried</td>\n      <td>Female</td>\n      <td>3</td>\n      <td>3.0</td>\n      <td>Deluxe</td>\n      <td>3.0</td>\n      <td>Single</td>\n      <td>1.0</td>\n      <td>1</td>\n      <td>2</td>\n      <td>1</td>\n      <td>0.0</td>\n      <td>Manager</td>\n      <td>20993.0</td>\n    </tr>\n    <tr>\n      <th>1</th>\n      <td>0</td>\n      <td>49.0</td>\n      <td>Company Invited</td>\n      <td>1</td>\n      <td>14.0</td>\n      <td>Salaried</td>\n      <td>Male</td>\n      <td>3</td>\n      <td>4.0</td>\n      <td>Deluxe</td>\n      <td>4.0</td>\n      <td>Divorced</td>\n      <td>2.0</td>\n      <td>0</td>\n      <td>3</td>\n      <td>1</td>\n      <td>2.0</td>\n      <td>Manager</td>\n      <td>20130.0</td>\n    </tr>\n    <tr>\n      <th>2</th>\n      <td>1</td>\n      <td>37.0</td>\n      <td>Self Enquiry</td>\n      <td>1</td>\n      <td>8.0</td>\n      <td>Free Lancer</td>\n      <td>Male</td>\n      <td>3</td>\n      <td>4.0</td>\n      <td>Basic</td>\n      <td>3.0</td>\n      <td>Single</td>\n      <td>7.0</td>\n      <td>1</td>\n      <td>3</td>\n      <td>0</td>\n      <td>0.0</td>\n      <td>Executive</td>\n      <td>17090.0</td>\n    </tr>\n    <tr>\n      <th>3</th>\n      <td>0</td>\n      <td>33.0</td>\n      <td>Company Invited</td>\n      <td>1</td>\n      <td>9.0</td>\n      <td>Salaried</td>\n      <td>Female</td>\n      <td>2</td>\n      <td>3.0</td>\n      <td>Basic</td>\n      <td>3.0</td>\n      <td>Divorced</td>\n      <td>2.0</td>\n      <td>1</td>\n      <td>5</td>\n      <td>1</td>\n      <td>1.0</td>\n      <td>Executive</td>\n      <td>17909.0</td>\n    </tr>\n    <tr>\n      <th>4</th>\n      <td>0</td>\n      <td>NaN</td>\n      <td>Self Enquiry</td>\n      <td>1</td>\n      <td>8.0</td>\n      <td>Small Business</td>\n      <td>Male</td>\n      <td>2</td>\n      <td>3.0</td>\n      <td>Basic</td>\n      <td>4.0</td>\n      <td>Divorced</td>\n      <td>1.0</td>\n      <td>0</td>\n      <td>5</td>\n      <td>1</td>\n      <td>0.0</td>\n      <td>Executive</td>\n      <td>18468.0</td>\n    </tr>\n  </tbody>\n</table>\n</div>"
     },
     "execution_count": 3,
     "metadata": {},
     "output_type": "execute_result"
    }
   ],
   "source": [
    "# checking dataset\n",
    "\n",
    "df = df.drop('CustomerID', axis=1)\n",
    "df.head()"
   ],
   "metadata": {
    "collapsed": false,
    "pycharm": {
     "name": "#%%\n"
    }
   }
  },
  {
   "cell_type": "markdown",
   "source": [],
   "metadata": {
    "collapsed": false,
    "pycharm": {
     "name": "#%% md\n"
    }
   }
  },
  {
   "cell_type": "markdown",
   "source": [
    "## Label / Ordinal Encoding"
   ],
   "metadata": {
    "collapsed": false,
    "pycharm": {
     "name": "#%% md\n"
    }
   }
  },
  {
   "cell_type": "markdown",
   "source": [],
   "metadata": {
    "collapsed": false,
    "pycharm": {
     "name": "#%% md\n"
    }
   }
  },
  {
   "cell_type": "markdown",
   "source": [
    "> - Label encoding algorithm is quite simple and it considers an order for encoding,\n",
    "> - Hence can be used for encoding ordinal data."
   ],
   "metadata": {
    "collapsed": false,
    "pycharm": {
     "name": "#%% md\n"
    }
   }
  },
  {
   "cell_type": "markdown",
   "source": [],
   "metadata": {
    "collapsed": false,
    "pycharm": {
     "name": "#%% md\n"
    }
   }
  },
  {
   "cell_type": "code",
   "execution_count": 4,
   "outputs": [
    {
     "data": {
      "text/plain": "Basic           1842\nDeluxe          1732\nStandard         742\nSuper Deluxe     342\nKing             230\nName: ProductPitched, dtype: int64"
     },
     "execution_count": 4,
     "metadata": {},
     "output_type": "execute_result"
    }
   ],
   "source": [
    "# For Label encoding we will use ProductPitched feature\n",
    "\n",
    "df['ProductPitched'].value_counts()"
   ],
   "metadata": {
    "collapsed": false,
    "pycharm": {
     "name": "#%%\n"
    }
   }
  },
  {
   "cell_type": "code",
   "execution_count": 5,
   "outputs": [
    {
     "data": {
      "text/plain": "<AxesSubplot:xlabel='ProductPitched', ylabel='count'>"
     },
     "execution_count": 5,
     "metadata": {},
     "output_type": "execute_result"
    },
    {
     "data": {
      "text/plain": "<Figure size 640x480 with 1 Axes>",
      "image/png": "[encoded data removed]"
     },
     "metadata": {},
     "output_type": "display_data"
    }
   ],
   "source": [
    "# Label Encoding using scikitlearn library\n",
    "\n",
    "from sklearn.preprocessing import LabelEncoder\n",
    "\n",
    "le = LabelEncoder()\n",
    "df['ProductPitched'] = le.fit_transform(df['ProductPitched'])\n",
    "\n",
    "sns.set(style =\"darkgrid\")\n",
    "sns.countplot(df['ProductPitched'])"
   ],
   "metadata": {
    "collapsed": false,
    "pycharm": {
     "name": "#%%\n"
    }
   }
  },
  {
   "cell_type": "markdown",
   "source": [],
   "metadata": {
    "collapsed": false,
    "pycharm": {
     "name": "#%% md\n"
    }
   }
  },
  {
   "cell_type": "code",
   "execution_count": 6,
   "outputs": [],
   "source": [
    "df = df_orig.copy()"
   ],
   "metadata": {
    "collapsed": false,
    "pycharm": {
     "name": "#%%\n"
    }
   }
  },
  {
   "cell_type": "markdown",
   "source": [],
   "metadata": {
    "collapsed": false,
    "pycharm": {
     "name": "#%% md\n"
    }
   }
  },
  {
   "cell_type": "markdown",
   "source": [
    "> #### Another Method"
   ],
   "metadata": {
    "collapsed": false,
    "pycharm": {
     "name": "#%% md\n"
    }
   }
  },
  {
   "cell_type": "markdown",
   "source": [],
   "metadata": {
    "collapsed": false,
    "pycharm": {
     "name": "#%% md\n"
    }
   }
  },
  {
   "cell_type": "code",
   "execution_count": 7,
   "outputs": [
    {
     "data": {
      "text/plain": "0    3\n1    3\n2    1\n3    1\n4    1\nName: ProductPitched, dtype: int32"
     },
     "execution_count": 7,
     "metadata": {},
     "output_type": "execute_result"
    }
   ],
   "source": [
    "# Label encoding using category_encoder library\n",
    "\n",
    "from category_encoders import OrdinalEncoder\n",
    "\n",
    "mapping = [{'col': 'ProductPitched', 'mapping': {\"Basic\": 1,  \"Standard\": 2, \"Deluxe\": 3, \"Super Deluxe\": 4, \"King\": 5}}]\n",
    "OrdinalEncoder(cols=['ProductPitched'], mapping=mapping).fit(df).transform(df)['ProductPitched'].head()\n",
    "\n",
    "ordi = OrdinalEncoder(cols=['ProductPitched'], mapping=mapping).fit(df).transform(df)['ProductPitched']\n",
    "\n",
    "ordi.head()"
   ],
   "metadata": {
    "collapsed": false,
    "pycharm": {
     "name": "#%%\n"
    }
   }
  },
  {
   "cell_type": "code",
   "execution_count": 8,
   "outputs": [
    {
     "data": {
      "text/plain": "<AxesSubplot:xlabel='ProductPitched', ylabel='count'>"
     },
     "execution_count": 8,
     "metadata": {},
     "output_type": "execute_result"
    },
    {
     "data": {
      "text/plain": "<Figure size 640x480 with 1 Axes>",
      "image/png": "[encoded data removed]"
     },
     "metadata": {},
     "output_type": "display_data"
    }
   ],
   "source": [
    "sns.set(style =\"darkgrid\")\n",
    "sns.countplot(ordi)"
   ],
   "metadata": {
    "collapsed": false,
    "pycharm": {
     "name": "#%%\n"
    }
   }
  },
  {
   "cell_type": "markdown",
   "source": [],
   "metadata": {
    "collapsed": false,
    "pycharm": {
     "name": "#%% md\n"
    }
   }
  },
  {
   "cell_type": "markdown",
   "source": [
    "> #### Observation\n",
    "> - We noticed how Label Encoding changed our categorical variables to numbers.\n",
    "> - ProductPitched column had 5 distinct datapoints and all of them were assigned a number ranging from 0-4."
   ],
   "metadata": {
    "collapsed": false,
    "pycharm": {
     "name": "#%% md\n"
    }
   }
  },
  {
   "cell_type": "markdown",
   "source": [],
   "metadata": {
    "collapsed": false,
    "pycharm": {
     "name": "#%% md\n"
    }
   }
  },
  {
   "cell_type": "markdown",
   "source": [
    "## One-Hot / Dummy Encoding"
   ],
   "metadata": {
    "collapsed": false,
    "pycharm": {
     "name": "#%% md\n"
    }
   }
  },
  {
   "cell_type": "markdown",
   "source": [],
   "metadata": {
    "collapsed": false,
    "pycharm": {
     "name": "#%% md\n"
    }
   }
  },
  {
   "cell_type": "markdown",
   "source": [
    "> To overcome the Disadvantage of Label Encoding as it considers some hierarchy in the columns which can be misleading to nominal features present in the data. we can use the One-Hot Encoding strategy.\n",
    "> In one-hot encoding, categorical data are represented as vectors of zeros and ones.\n",
    "> This is done by using a separate dummy variable for each category, and setting the value of the dummy variable to 1 if the observation belongs to that category and 0 otherwise."
   ],
   "metadata": {
    "collapsed": false,
    "pycharm": {
     "name": "#%% md\n"
    }
   }
  },
  {
   "cell_type": "markdown",
   "source": [],
   "metadata": {
    "collapsed": false,
    "pycharm": {
     "name": "#%% md\n"
    }
   }
  },
  {
   "cell_type": "code",
   "execution_count": 9,
   "outputs": [],
   "source": [
    "df = df_orig.copy()"
   ],
   "metadata": {
    "collapsed": false,
    "pycharm": {
     "name": "#%%\n"
    }
   }
  },
  {
   "cell_type": "markdown",
   "source": [],
   "metadata": {
    "collapsed": false,
    "pycharm": {
     "name": "#%% md\n"
    }
   }
  },
  {
   "cell_type": "markdown",
   "source": [
    "> ##### One Hot using Sklearn library"
   ],
   "metadata": {
    "collapsed": false,
    "pycharm": {
     "name": "#%% md\n"
    }
   }
  },
  {
   "cell_type": "code",
   "execution_count": 10,
   "outputs": [
    {
     "data": {
      "text/plain": "     0    1    2    3    4\n0  0.0  1.0  0.0  0.0  0.0\n1  0.0  1.0  0.0  0.0  0.0\n2  1.0  0.0  0.0  0.0  0.0\n3  1.0  0.0  0.0  0.0  0.0\n4  1.0  0.0  0.0  0.0  0.0\n5  1.0  0.0  0.0  0.0  0.0\n6  1.0  0.0  0.0  0.0  0.0\n7  1.0  0.0  0.0  0.0  0.0\n8  0.0  0.0  0.0  1.0  0.0\n9  0.0  1.0  0.0  0.0  0.0",
      "text/html": "<div>\n<style scoped>\n    .dataframe tbody tr th:only-of-type {\n        vertical-align: middle;\n    }\n\n    .dataframe tbody tr th {\n        vertical-align: top;\n    }\n\n    .dataframe thead th {\n        text-align: right;\n    }\n</style>\n<table border=\"1\" class=\"dataframe\">\n  <thead>\n    <tr style=\"text-align: right;\">\n      <th></th>\n      <th>0</th>\n      <th>1</th>\n      <th>2</th>\n      <th>3</th>\n      <th>4</th>\n    </tr>\n  </thead>\n  <tbody>\n    <tr>\n      <th>0</th>\n      <td>0.0</td>\n      <td>1.0</td>\n      <td>0.0</td>\n      <td>0.0</td>\n      <td>0.0</td>\n    </tr>\n    <tr>\n      <th>1</th>\n      <td>0.0</td>\n      <td>1.0</td>\n      <td>0.0</td>\n      <td>0.0</td>\n      <td>0.0</td>\n    </tr>\n    <tr>\n      <th>2</th>\n      <td>1.0</td>\n      <td>0.0</td>\n      <td>0.0</td>\n      <td>0.0</td>\n      <td>0.0</td>\n    </tr>\n    <tr>\n      <th>3</th>\n      <td>1.0</td>\n      <td>0.0</td>\n      <td>0.0</td>\n      <td>0.0</td>\n      <td>0.0</td>\n    </tr>\n    <tr>\n      <th>4</th>\n      <td>1.0</td>\n      <td>0.0</td>\n      <td>0.0</td>\n      <td>0.0</td>\n      <td>0.0</td>\n    </tr>\n    <tr>\n      <th>5</th>\n      <td>1.0</td>\n      <td>0.0</td>\n      <td>0.0</td>\n      <td>0.0</td>\n      <td>0.0</td>\n    </tr>\n    <tr>\n      <th>6</th>\n      <td>1.0</td>\n      <td>0.0</td>\n      <td>0.0</td>\n      <td>0.0</td>\n      <td>0.0</td>\n    </tr>\n    <tr>\n      <th>7</th>\n      <td>1.0</td>\n      <td>0.0</td>\n      <td>0.0</td>\n      <td>0.0</td>\n      <td>0.0</td>\n    </tr>\n    <tr>\n      <th>8</th>\n      <td>0.0</td>\n      <td>0.0</td>\n      <td>0.0</td>\n      <td>1.0</td>\n      <td>0.0</td>\n    </tr>\n    <tr>\n      <th>9</th>\n      <td>0.0</td>\n      <td>1.0</td>\n      <td>0.0</td>\n      <td>0.0</td>\n      <td>0.0</td>\n    </tr>\n  </tbody>\n</table>\n</div>"
     },
     "execution_count": 10,
     "metadata": {},
     "output_type": "execute_result"
    }
   ],
   "source": [
    "# One-Hot encoding with Sklearn library\n",
    "\n",
    "from sklearn.preprocessing import OneHotEncoder\n",
    "\n",
    "enc = OneHotEncoder()\n",
    "\n",
    "# transforming the column after fitting\n",
    "enc = enc.fit_transform(df[['ProductPitched']]).toarray()\n",
    "\n",
    "# converting arrays to a dataframe\n",
    "encoded_colm = pd.DataFrame(enc)\n",
    "\n",
    "# concatenating dataframes\n",
    "df = pd.concat([df, encoded_colm], axis=1)\n",
    "\n",
    "# removing the encoded column.\n",
    "df = df.drop(['ProductPitched'], axis=1)\n",
    "\n",
    "df[[0,1,2,3,4]].head(10)"
   ],
   "metadata": {
    "collapsed": false,
    "pycharm": {
     "name": "#%%\n"
    }
   }
  },
  {
   "cell_type": "markdown",
   "source": [],
   "metadata": {
    "collapsed": false,
    "pycharm": {
     "name": "#%% md\n"
    }
   }
  },
  {
   "cell_type": "code",
   "execution_count": 11,
   "outputs": [],
   "source": [
    "df = df_orig.copy()"
   ],
   "metadata": {
    "collapsed": false,
    "pycharm": {
     "name": "#%%\n"
    }
   }
  },
  {
   "cell_type": "markdown",
   "source": [],
   "metadata": {
    "collapsed": false,
    "pycharm": {
     "name": "#%% md\n"
    }
   }
  },
  {
   "cell_type": "markdown",
   "source": [
    "> ##### One-Hot using Pandas   (Preferable)"
   ],
   "metadata": {
    "collapsed": false,
    "pycharm": {
     "name": "#%% md\n"
    }
   }
  },
  {
   "cell_type": "code",
   "execution_count": 12,
   "outputs": [
    {
     "data": {
      "text/plain": "   ProductPitched_Basic  ProductPitched_Deluxe  ProductPitched_King  \\\n0                     0                      1                    0   \n1                     0                      1                    0   \n2                     1                      0                    0   \n3                     1                      0                    0   \n4                     1                      0                    0   \n5                     1                      0                    0   \n6                     1                      0                    0   \n7                     1                      0                    0   \n8                     0                      0                    0   \n9                     0                      1                    0   \n\n   ProductPitched_Standard  ProductPitched_Super Deluxe  \n0                        0                            0  \n1                        0                            0  \n2                        0                            0  \n3                        0                            0  \n4                        0                            0  \n5                        0                            0  \n6                        0                            0  \n7                        0                            0  \n8                        1                            0  \n9                        0                            0  ",
      "text/html": "<div>\n<style scoped>\n    .dataframe tbody tr th:only-of-type {\n        vertical-align: middle;\n    }\n\n    .dataframe tbody tr th {\n        vertical-align: top;\n    }\n\n    .dataframe thead th {\n        text-align: right;\n    }\n</style>\n<table border=\"1\" class=\"dataframe\">\n  <thead>\n    <tr style=\"text-align: right;\">\n      <th></th>\n      <th>ProductPitched_Basic</th>\n      <th>ProductPitched_Deluxe</th>\n      <th>ProductPitched_King</th>\n      <th>ProductPitched_Standard</th>\n      <th>ProductPitched_Super Deluxe</th>\n    </tr>\n  </thead>\n  <tbody>\n    <tr>\n      <th>0</th>\n      <td>0</td>\n      <td>1</td>\n      <td>0</td>\n      <td>0</td>\n      <td>0</td>\n    </tr>\n    <tr>\n      <th>1</th>\n      <td>0</td>\n      <td>1</td>\n      <td>0</td>\n      <td>0</td>\n      <td>0</td>\n    </tr>\n    <tr>\n      <th>2</th>\n      <td>1</td>\n      <td>0</td>\n      <td>0</td>\n      <td>0</td>\n      <td>0</td>\n    </tr>\n    <tr>\n      <th>3</th>\n      <td>1</td>\n      <td>0</td>\n      <td>0</td>\n      <td>0</td>\n      <td>0</td>\n    </tr>\n    <tr>\n      <th>4</th>\n      <td>1</td>\n      <td>0</td>\n      <td>0</td>\n      <td>0</td>\n      <td>0</td>\n    </tr>\n    <tr>\n      <th>5</th>\n      <td>1</td>\n      <td>0</td>\n      <td>0</td>\n      <td>0</td>\n      <td>0</td>\n    </tr>\n    <tr>\n      <th>6</th>\n      <td>1</td>\n      <td>0</td>\n      <td>0</td>\n      <td>0</td>\n      <td>0</td>\n    </tr>\n    <tr>\n      <th>7</th>\n      <td>1</td>\n      <td>0</td>\n      <td>0</td>\n      <td>0</td>\n      <td>0</td>\n    </tr>\n    <tr>\n      <th>8</th>\n      <td>0</td>\n      <td>0</td>\n      <td>0</td>\n      <td>1</td>\n      <td>0</td>\n    </tr>\n    <tr>\n      <th>9</th>\n      <td>0</td>\n      <td>1</td>\n      <td>0</td>\n      <td>0</td>\n      <td>0</td>\n    </tr>\n  </tbody>\n</table>\n</div>"
     },
     "execution_count": 12,
     "metadata": {},
     "output_type": "execute_result"
    }
   ],
   "source": [
    "# One-Hot encoding with Pandas\n",
    "\n",
    "df1 = pd.get_dummies(df, prefix=['ProductPitched'], columns=['ProductPitched'])\n",
    "df1.iloc[: , -5:].head(10)"
   ],
   "metadata": {
    "collapsed": false,
    "pycharm": {
     "name": "#%%\n"
    }
   }
  },
  {
   "cell_type": "markdown",
   "source": [],
   "metadata": {
    "collapsed": false,
    "pycharm": {
     "name": "#%% md\n"
    }
   }
  },
  {
   "cell_type": "code",
   "execution_count": 13,
   "outputs": [],
   "source": [
    "df = df_orig.copy()"
   ],
   "metadata": {
    "collapsed": false,
    "pycharm": {
     "name": "#%%\n"
    }
   }
  },
  {
   "cell_type": "markdown",
   "source": [],
   "metadata": {
    "collapsed": false,
    "pycharm": {
     "name": "#%% md\n"
    }
   }
  },
  {
   "cell_type": "markdown",
   "source": [
    "> ##### One-Hot using Category_Encoders"
   ],
   "metadata": {
    "collapsed": false,
    "pycharm": {
     "name": "#%% md\n"
    }
   }
  },
  {
   "cell_type": "markdown",
   "source": [],
   "metadata": {
    "collapsed": false,
    "pycharm": {
     "name": "#%% md\n"
    }
   }
  },
  {
   "cell_type": "code",
   "execution_count": 14,
   "outputs": [
    {
     "data": {
      "text/plain": "   ProductPitched_1  ProductPitched_2  ProductPitched_3  ProductPitched_4  \\\n0                 1                 0                 0                 0   \n1                 1                 0                 0                 0   \n2                 0                 1                 0                 0   \n3                 0                 1                 0                 0   \n4                 0                 1                 0                 0   \n\n   ProductPitched_5  \n0                 0  \n1                 0  \n2                 0  \n3                 0  \n4                 0  ",
      "text/html": "<div>\n<style scoped>\n    .dataframe tbody tr th:only-of-type {\n        vertical-align: middle;\n    }\n\n    .dataframe tbody tr th {\n        vertical-align: top;\n    }\n\n    .dataframe thead th {\n        text-align: right;\n    }\n</style>\n<table border=\"1\" class=\"dataframe\">\n  <thead>\n    <tr style=\"text-align: right;\">\n      <th></th>\n      <th>ProductPitched_1</th>\n      <th>ProductPitched_2</th>\n      <th>ProductPitched_3</th>\n      <th>ProductPitched_4</th>\n      <th>ProductPitched_5</th>\n    </tr>\n  </thead>\n  <tbody>\n    <tr>\n      <th>0</th>\n      <td>1</td>\n      <td>0</td>\n      <td>0</td>\n      <td>0</td>\n      <td>0</td>\n    </tr>\n    <tr>\n      <th>1</th>\n      <td>1</td>\n      <td>0</td>\n      <td>0</td>\n      <td>0</td>\n      <td>0</td>\n    </tr>\n    <tr>\n      <th>2</th>\n      <td>0</td>\n      <td>1</td>\n      <td>0</td>\n      <td>0</td>\n      <td>0</td>\n    </tr>\n    <tr>\n      <th>3</th>\n      <td>0</td>\n      <td>1</td>\n      <td>0</td>\n      <td>0</td>\n      <td>0</td>\n    </tr>\n    <tr>\n      <th>4</th>\n      <td>0</td>\n      <td>1</td>\n      <td>0</td>\n      <td>0</td>\n      <td>0</td>\n    </tr>\n  </tbody>\n</table>\n</div>"
     },
     "execution_count": 14,
     "metadata": {},
     "output_type": "execute_result"
    }
   ],
   "source": [
    "# One Hot using Category_Encoders library\n",
    "\n",
    "from category_encoders import OneHotEncoder\n",
    "\n",
    "onehot = OneHotEncoder(cols=['ProductPitched']).fit(df).transform(df)\n",
    "\n",
    "onehot[['ProductPitched_1', 'ProductPitched_2', 'ProductPitched_3', 'ProductPitched_4', 'ProductPitched_5']].head()"
   ],
   "metadata": {
    "collapsed": false,
    "pycharm": {
     "name": "#%%\n"
    }
   }
  },
  {
   "cell_type": "markdown",
   "source": [],
   "metadata": {
    "collapsed": false,
    "pycharm": {
     "name": "#%% md\n"
    }
   }
  },
  {
   "cell_type": "markdown",
   "source": [
    "> #### Observation :-\n",
    "> - **Sklearn library** method created 5 colums named as 0,1,2,3,4 and encoded them as floating value\n",
    "> - **Pandas** method seems to work best out of all since it named the columns in most recognizable way and used integer for encoding.\n",
    "> - **Category_Encoders Library** also worked good in terms of encoding as integer but it didn't named the columns too properly like Pandas does."
   ],
   "metadata": {
    "collapsed": false,
    "pycharm": {
     "name": "#%% md\n"
    }
   }
  },
  {
   "cell_type": "markdown",
   "source": [],
   "metadata": {
    "collapsed": false,
    "pycharm": {
     "name": "#%% md\n"
    }
   }
  },
  {
   "cell_type": "markdown",
   "source": [
    "## Target Encoding"
   ],
   "metadata": {
    "collapsed": false,
    "pycharm": {
     "name": "#%% md\n"
    }
   }
  },
  {
   "cell_type": "markdown",
   "source": [],
   "metadata": {
    "collapsed": false,
    "pycharm": {
     "name": "#%% md\n"
    }
   }
  },
  {
   "cell_type": "markdown",
   "source": [
    "> Target encoding is good because it picks up values that can explain the target.\n",
    ">\n",
    "> It is used by most kagglers in their competitions.\n",
    ">\n",
    "> The basic idea is to replace a categorical value with the mean of the target variable."
   ],
   "metadata": {
    "collapsed": false,
    "pycharm": {
     "name": "#%% md\n"
    }
   }
  },
  {
   "cell_type": "markdown",
   "source": [],
   "metadata": {
    "collapsed": false,
    "pycharm": {
     "name": "#%% md\n"
    }
   }
  },
  {
   "cell_type": "code",
   "execution_count": 15,
   "outputs": [],
   "source": [
    "df = df_orig.copy()"
   ],
   "metadata": {
    "collapsed": false,
    "pycharm": {
     "name": "#%%\n"
    }
   }
  },
  {
   "cell_type": "markdown",
   "source": [],
   "metadata": {
    "collapsed": false,
    "pycharm": {
     "name": "#%% md\n"
    }
   }
  },
  {
   "cell_type": "markdown",
   "source": [
    ">> #### Method 1"
   ],
   "metadata": {
    "collapsed": false,
    "pycharm": {
     "name": "#%% md\n"
    }
   }
  },
  {
   "cell_type": "code",
   "execution_count": 16,
   "outputs": [
    {
     "data": {
      "text/plain": "   ProdTaken  ProductPitched  ProductPitched\n0          1          Deluxe        0.117783\n1          0          Deluxe        0.117783\n2          1           Basic        0.299674\n3          0           Basic        0.299674\n4          0           Basic        0.299674\n5          0           Basic        0.299674\n6          0           Basic        0.299674\n7          0           Basic        0.299674\n8          0        Standard        0.167116\n9          0          Deluxe        0.117783",
      "text/html": "<div>\n<style scoped>\n    .dataframe tbody tr th:only-of-type {\n        vertical-align: middle;\n    }\n\n    .dataframe tbody tr th {\n        vertical-align: top;\n    }\n\n    .dataframe thead th {\n        text-align: right;\n    }\n</style>\n<table border=\"1\" class=\"dataframe\">\n  <thead>\n    <tr style=\"text-align: right;\">\n      <th></th>\n      <th>ProdTaken</th>\n      <th>ProductPitched</th>\n      <th>ProductPitched</th>\n    </tr>\n  </thead>\n  <tbody>\n    <tr>\n      <th>0</th>\n      <td>1</td>\n      <td>Deluxe</td>\n      <td>0.117783</td>\n    </tr>\n    <tr>\n      <th>1</th>\n      <td>0</td>\n      <td>Deluxe</td>\n      <td>0.117783</td>\n    </tr>\n    <tr>\n      <th>2</th>\n      <td>1</td>\n      <td>Basic</td>\n      <td>0.299674</td>\n    </tr>\n    <tr>\n      <th>3</th>\n      <td>0</td>\n      <td>Basic</td>\n      <td>0.299674</td>\n    </tr>\n    <tr>\n      <th>4</th>\n      <td>0</td>\n      <td>Basic</td>\n      <td>0.299674</td>\n    </tr>\n    <tr>\n      <th>5</th>\n      <td>0</td>\n      <td>Basic</td>\n      <td>0.299674</td>\n    </tr>\n    <tr>\n      <th>6</th>\n      <td>0</td>\n      <td>Basic</td>\n      <td>0.299674</td>\n    </tr>\n    <tr>\n      <th>7</th>\n      <td>0</td>\n      <td>Basic</td>\n      <td>0.299674</td>\n    </tr>\n    <tr>\n      <th>8</th>\n      <td>0</td>\n      <td>Standard</td>\n      <td>0.167116</td>\n    </tr>\n    <tr>\n      <th>9</th>\n      <td>0</td>\n      <td>Deluxe</td>\n      <td>0.117783</td>\n    </tr>\n  </tbody>\n</table>\n</div>"
     },
     "execution_count": 16,
     "metadata": {},
     "output_type": "execute_result"
    }
   ],
   "source": [
    "from category_encoders import TargetEncoder\n",
    "\n",
    "Targetenc = TargetEncoder()\n",
    "\n",
    "# transforming the column after fitting\n",
    "values = Targetenc.fit_transform(X = df.ProductPitched, y = df.ProdTaken)\n",
    "\n",
    "# concatenating values with dataframe\n",
    "df = pd.concat([df, values], axis = 1)\n",
    "\n",
    "df[['ProdTaken', 'ProductPitched']].head(10)"
   ],
   "metadata": {
    "collapsed": false,
    "pycharm": {
     "name": "#%%\n"
    }
   }
  },
  {
   "cell_type": "markdown",
   "source": [],
   "metadata": {
    "collapsed": false,
    "pycharm": {
     "name": "#%% md\n"
    }
   }
  },
  {
   "cell_type": "code",
   "execution_count": 17,
   "outputs": [],
   "source": [
    "df = df_orig.copy()"
   ],
   "metadata": {
    "collapsed": false,
    "pycharm": {
     "name": "#%%\n"
    }
   }
  },
  {
   "cell_type": "markdown",
   "source": [
    ">> #### Method 2"
   ],
   "metadata": {
    "collapsed": false,
    "pycharm": {
     "name": "#%% md\n"
    }
   }
  },
  {
   "cell_type": "code",
   "execution_count": 18,
   "outputs": [
    {
     "data": {
      "text/plain": "   ProdTaken  ProductPitched\n0          1        0.117783\n1          0        0.117783\n2          1        0.299674\n3          0        0.299674\n4          0        0.299674",
      "text/html": "<div>\n<style scoped>\n    .dataframe tbody tr th:only-of-type {\n        vertical-align: middle;\n    }\n\n    .dataframe tbody tr th {\n        vertical-align: top;\n    }\n\n    .dataframe thead th {\n        text-align: right;\n    }\n</style>\n<table border=\"1\" class=\"dataframe\">\n  <thead>\n    <tr style=\"text-align: right;\">\n      <th></th>\n      <th>ProdTaken</th>\n      <th>ProductPitched</th>\n    </tr>\n  </thead>\n  <tbody>\n    <tr>\n      <th>0</th>\n      <td>1</td>\n      <td>0.117783</td>\n    </tr>\n    <tr>\n      <th>1</th>\n      <td>0</td>\n      <td>0.117783</td>\n    </tr>\n    <tr>\n      <th>2</th>\n      <td>1</td>\n      <td>0.299674</td>\n    </tr>\n    <tr>\n      <th>3</th>\n      <td>0</td>\n      <td>0.299674</td>\n    </tr>\n    <tr>\n      <th>4</th>\n      <td>0</td>\n      <td>0.299674</td>\n    </tr>\n  </tbody>\n</table>\n</div>"
     },
     "execution_count": 18,
     "metadata": {},
     "output_type": "execute_result"
    }
   ],
   "source": [
    "from category_encoders import TargetEncoder\n",
    "\n",
    "targ = TargetEncoder(cols=['ProductPitched'], smoothing=1.0).fit(df, df['ProdTaken']).transform(df)\n",
    "\n",
    "targ[['ProdTaken', 'ProductPitched']].head()"
   ],
   "metadata": {
    "collapsed": false,
    "pycharm": {
     "name": "#%%\n"
    }
   }
  },
  {
   "cell_type": "markdown",
   "source": [],
   "metadata": {
    "collapsed": false,
    "pycharm": {
     "name": "#%% md\n"
    }
   }
  },
  {
   "cell_type": "markdown",
   "source": [
    "> #### Observations :-\n",
    "> We perform Target encoding for train data only and code the test data using results obtained from the training dataset. Although, a very efficient coding system, it has the following issues responsible for deteriorating the model performance-\n",
    "> - It can lead to target leakage or overfitting. To address overfitting we can use different techniques.\n",
    ">   - In the leave one out encoding, the current target value is reduced from the overall mean of the target to avoid leakage.\n",
    ">   - In another method, we may introduce some Gaussian noise in the target statistics. The value of this noise is hyperparameter to the model.\n",
    "> - The second issue, we may face is the improper distribution of categories in train and test data. In such a case, the categories may assume extreme values. Therefore the target means for the category are mixed with the marginal mean of the target."
   ],
   "metadata": {
    "collapsed": false,
    "pycharm": {
     "name": "#%% md\n"
    }
   }
  },
  {
   "cell_type": "markdown",
   "source": [],
   "metadata": {
    "collapsed": false,
    "pycharm": {
     "name": "#%% md\n"
    }
   }
  },
  {
   "cell_type": "markdown",
   "source": [
    "## Frequency / Count Encoding"
   ],
   "metadata": {
    "collapsed": false,
    "pycharm": {
     "name": "#%% md\n"
    }
   }
  },
  {
   "cell_type": "markdown",
   "source": [],
   "metadata": {
    "collapsed": false,
    "pycharm": {
     "name": "#%% md\n"
    }
   }
  },
  {
   "cell_type": "markdown",
   "source": [
    "> - Count encoding is a way of representing categorical data using the count of the categories.\n",
    "> - Frequency encoding is simply a normalized version of count encoding."
   ],
   "metadata": {
    "collapsed": false,
    "pycharm": {
     "name": "#%% md\n"
    }
   }
  },
  {
   "cell_type": "code",
   "execution_count": 19,
   "outputs": [],
   "source": [
    "# Retrieving original dataset\n",
    "\n",
    "df = df_orig.copy()"
   ],
   "metadata": {
    "collapsed": false,
    "pycharm": {
     "name": "#%%\n"
    }
   }
  },
  {
   "cell_type": "markdown",
   "source": [],
   "metadata": {
    "collapsed": false,
    "pycharm": {
     "name": "#%% md\n"
    }
   }
  },
  {
   "cell_type": "code",
   "execution_count": 20,
   "outputs": [
    {
     "data": {
      "text/plain": "0    1732\n1    1732\n2    1842\n3    1842\n4    1842\nName: ProductPitched, dtype: int64"
     },
     "execution_count": 20,
     "metadata": {},
     "output_type": "execute_result"
    }
   ],
   "source": [
    "# Count Encoding\n",
    "\n",
    "from category_encoders import CountEncoder\n",
    "\n",
    "count_enc = CountEncoder(cols=['ProductPitched']).fit(df).transform(df)\n",
    "\n",
    "count_enc['ProductPitched'].head()"
   ],
   "metadata": {
    "collapsed": false,
    "pycharm": {
     "name": "#%%\n"
    }
   }
  },
  {
   "cell_type": "markdown",
   "source": [],
   "metadata": {
    "collapsed": false,
    "pycharm": {
     "name": "#%% md\n"
    }
   }
  },
  {
   "cell_type": "code",
   "execution_count": 21,
   "outputs": [
    {
     "data": {
      "text/plain": "0    0.354337\n1    0.354337\n2    0.376841\n3    0.376841\n4    0.376841\nName: ProductPitched, dtype: float64"
     },
     "execution_count": 21,
     "metadata": {},
     "output_type": "execute_result"
    }
   ],
   "source": [
    "# Frequency Encoding\n",
    "\n",
    "df = df_orig.copy()\n",
    "\n",
    "from category_encoders import CountEncoder\n",
    "freq_enc = CountEncoder(cols=['ProductPitched'], normalize=True).fit(df).transform(df)\n",
    "\n",
    "freq_enc['ProductPitched'].head()"
   ],
   "metadata": {
    "collapsed": false,
    "pycharm": {
     "name": "#%%\n"
    }
   }
  },
  {
   "cell_type": "markdown",
   "source": [],
   "metadata": {
    "collapsed": false,
    "pycharm": {
     "name": "#%% md\n"
    }
   }
  },
  {
   "cell_type": "markdown",
   "source": [
    "> #### Observation :-\n",
    "> - Count Encoding converted the datapoints of the categorical column into their total count\n",
    "> - Frequency shrunk them further within percentage count."
   ],
   "metadata": {
    "collapsed": false,
    "pycharm": {
     "name": "#%% md\n"
    }
   }
  },
  {
   "cell_type": "markdown",
   "source": [],
   "metadata": {
    "collapsed": false,
    "pycharm": {
     "name": "#%% md\n"
    }
   }
  },
  {
   "cell_type": "markdown",
   "source": [
    "## Binary Encoding"
   ],
   "metadata": {
    "collapsed": false,
    "pycharm": {
     "name": "#%% md\n"
    }
   }
  },
  {
   "cell_type": "markdown",
   "source": [],
   "metadata": {
    "collapsed": false,
    "pycharm": {
     "name": "#%% md\n"
    }
   }
  },
  {
   "cell_type": "markdown",
   "source": [
    "> - Binary encoding is a combination of Hash encoding and one-hot encoding.\n",
    "> - Binary encoding is a technique used to transform categorical data into numerical data by encoding categories as integers and then converting them into binary code.\n",
    "> - Initially, categories are encoded as Integer and then converted into binary code, then the digits from that binary string are placed into separate columns.\n",
    "> - This method is quite preferable when there is more categories. Imagine if you have 100 different categories. One hot encoding will create 100 different columns, But binary encoding only need 7 columns."
   ],
   "metadata": {
    "collapsed": false,
    "pycharm": {
     "name": "#%% md\n"
    }
   }
  },
  {
   "cell_type": "markdown",
   "source": [],
   "metadata": {
    "collapsed": false,
    "pycharm": {
     "name": "#%% md\n"
    }
   }
  },
  {
   "cell_type": "code",
   "execution_count": 22,
   "outputs": [],
   "source": [
    "# Retrieving original dataset\n",
    "\n",
    "df = df_orig.copy()"
   ],
   "metadata": {
    "collapsed": false,
    "pycharm": {
     "name": "#%%\n"
    }
   }
  },
  {
   "cell_type": "code",
   "execution_count": 23,
   "outputs": [
    {
     "data": {
      "text/plain": "0    Deluxe\n1    Deluxe\n2     Basic\n3     Basic\n4     Basic\nName: ProductPitched, dtype: object"
     },
     "execution_count": 23,
     "metadata": {},
     "output_type": "execute_result"
    }
   ],
   "source": [
    "df['ProductPitched'].head()"
   ],
   "metadata": {
    "collapsed": false,
    "pycharm": {
     "name": "#%%\n"
    }
   }
  },
  {
   "cell_type": "markdown",
   "source": [
    ">> #### Method 1"
   ],
   "metadata": {
    "collapsed": false,
    "pycharm": {
     "name": "#%% md\n"
    }
   }
  },
  {
   "cell_type": "code",
   "execution_count": 24,
   "outputs": [
    {
     "data": {
      "text/plain": "   ProductPitched_0  ProductPitched_1  ProductPitched_2\n0                 0                 0                 1\n1                 0                 0                 1\n2                 0                 1                 0\n3                 0                 1                 0\n4                 0                 1                 0",
      "text/html": "<div>\n<style scoped>\n    .dataframe tbody tr th:only-of-type {\n        vertical-align: middle;\n    }\n\n    .dataframe tbody tr th {\n        vertical-align: top;\n    }\n\n    .dataframe thead th {\n        text-align: right;\n    }\n</style>\n<table border=\"1\" class=\"dataframe\">\n  <thead>\n    <tr style=\"text-align: right;\">\n      <th></th>\n      <th>ProductPitched_0</th>\n      <th>ProductPitched_1</th>\n      <th>ProductPitched_2</th>\n    </tr>\n  </thead>\n  <tbody>\n    <tr>\n      <th>0</th>\n      <td>0</td>\n      <td>0</td>\n      <td>1</td>\n    </tr>\n    <tr>\n      <th>1</th>\n      <td>0</td>\n      <td>0</td>\n      <td>1</td>\n    </tr>\n    <tr>\n      <th>2</th>\n      <td>0</td>\n      <td>1</td>\n      <td>0</td>\n    </tr>\n    <tr>\n      <th>3</th>\n      <td>0</td>\n      <td>1</td>\n      <td>0</td>\n    </tr>\n    <tr>\n      <th>4</th>\n      <td>0</td>\n      <td>1</td>\n      <td>0</td>\n    </tr>\n  </tbody>\n</table>\n</div>"
     },
     "execution_count": 24,
     "metadata": {},
     "output_type": "execute_result"
    }
   ],
   "source": [
    "from category_encoders import BinaryEncoder\n",
    "bin_enc = BinaryEncoder(cols=['ProductPitched']).fit(df).transform(df)\n",
    "\n",
    "bin_enc[['ProductPitched_0', 'ProductPitched_1', 'ProductPitched_2']].head()"
   ],
   "metadata": {
    "collapsed": false,
    "pycharm": {
     "name": "#%%\n"
    }
   }
  },
  {
   "cell_type": "markdown",
   "source": [],
   "metadata": {
    "collapsed": false,
    "pycharm": {
     "name": "#%% md\n"
    }
   }
  },
  {
   "cell_type": "markdown",
   "source": [
    ">> #### Method 2"
   ],
   "metadata": {
    "collapsed": false,
    "pycharm": {
     "name": "#%% md\n"
    }
   }
  },
  {
   "cell_type": "code",
   "execution_count": 25,
   "outputs": [
    {
     "data": {
      "text/plain": "   ProductPitched_0  ProductPitched_1  ProductPitched_2\n0                 0                 0                 1\n1                 0                 0                 1\n2                 0                 1                 0\n3                 0                 1                 0\n4                 0                 1                 0",
      "text/html": "<div>\n<style scoped>\n    .dataframe tbody tr th:only-of-type {\n        vertical-align: middle;\n    }\n\n    .dataframe tbody tr th {\n        vertical-align: top;\n    }\n\n    .dataframe thead th {\n        text-align: right;\n    }\n</style>\n<table border=\"1\" class=\"dataframe\">\n  <thead>\n    <tr style=\"text-align: right;\">\n      <th></th>\n      <th>ProductPitched_0</th>\n      <th>ProductPitched_1</th>\n      <th>ProductPitched_2</th>\n    </tr>\n  </thead>\n  <tbody>\n    <tr>\n      <th>0</th>\n      <td>0</td>\n      <td>0</td>\n      <td>1</td>\n    </tr>\n    <tr>\n      <th>1</th>\n      <td>0</td>\n      <td>0</td>\n      <td>1</td>\n    </tr>\n    <tr>\n      <th>2</th>\n      <td>0</td>\n      <td>1</td>\n      <td>0</td>\n    </tr>\n    <tr>\n      <th>3</th>\n      <td>0</td>\n      <td>1</td>\n      <td>0</td>\n    </tr>\n    <tr>\n      <th>4</th>\n      <td>0</td>\n      <td>1</td>\n      <td>0</td>\n    </tr>\n  </tbody>\n</table>\n</div>"
     },
     "execution_count": 25,
     "metadata": {},
     "output_type": "execute_result"
    }
   ],
   "source": [
    "df = df_orig.copy()\n",
    "\n",
    "\n",
    "from category_encoders import BinaryEncoder\n",
    "\n",
    "encoder = BinaryEncoder(cols =['ProductPitched'])\n",
    "\n",
    "# transforming the column after fitting\n",
    "newdata = encoder.fit_transform(df['ProductPitched'])\n",
    "\n",
    "# concatenating dataframe\n",
    "df = pd.concat([df, newdata], axis = 1)\n",
    "\n",
    "# dropping old column\n",
    "df = df.drop(['ProductPitched'], axis = 1)\n",
    "\n",
    "df.iloc[:,-3:].head()"
   ],
   "metadata": {
    "collapsed": false,
    "pycharm": {
     "name": "#%%\n"
    }
   }
  },
  {
   "cell_type": "markdown",
   "source": [],
   "metadata": {
    "collapsed": false,
    "pycharm": {
     "name": "#%% md\n"
    }
   }
  },
  {
   "cell_type": "markdown",
   "source": [
    "> #### Observation :-\n",
    "> - Binary encoding is a memory-efficient encoding scheme as it uses fewer features than one-hot encoding.\n",
    "> - Further, It reduces the curse of dimensionality for data with high cardinality."
   ],
   "metadata": {
    "collapsed": false,
    "pycharm": {
     "name": "#%% md\n"
    }
   }
  },
  {
   "cell_type": "markdown",
   "source": [],
   "metadata": {
    "collapsed": false,
    "pycharm": {
     "name": "#%% md\n"
    }
   }
  },
  {
   "cell_type": "markdown",
   "source": [
    "## Hash Encoder"
   ],
   "metadata": {
    "collapsed": false,
    "pycharm": {
     "name": "#%% md\n"
    }
   }
  },
  {
   "cell_type": "markdown",
   "source": [],
   "metadata": {
    "collapsed": false,
    "pycharm": {
     "name": "#%% md\n"
    }
   }
  },
  {
   "cell_type": "markdown",
   "source": [
    "> - Hashing is the transformation of arbitrary size input in the form of a fixed-size value.\n",
    "> - We use hashing algorithms to perform hashing operations i.e to generate the hash value of an input.\n",
    "> - Further, hashing is a one-way process, in other words, one can not generate original input from the hash representation.\n",
    "> - Just like one-hot encoding, the Hash encoder represents categorical features using the new dimensions.\n",
    "> - Here, the user can fix the number of dimensions after transformation using n_component argument."
   ],
   "metadata": {
    "collapsed": false,
    "pycharm": {
     "name": "#%% md\n"
    }
   }
  },
  {
   "cell_type": "markdown",
   "source": [],
   "metadata": {
    "collapsed": false,
    "pycharm": {
     "name": "#%% md\n"
    }
   }
  },
  {
   "cell_type": "markdown",
   "source": [
    ">> #### Method 1 : Using skykit library"
   ],
   "metadata": {
    "collapsed": false,
    "pycharm": {
     "name": "#%% md\n"
    }
   }
  },
  {
   "cell_type": "code",
   "execution_count": 26,
   "outputs": [],
   "source": [
    "df = df_orig.copy()"
   ],
   "metadata": {
    "collapsed": false,
    "pycharm": {
     "name": "#%%\n"
    }
   }
  },
  {
   "cell_type": "code",
   "execution_count": 27,
   "outputs": [
    {
     "data": {
      "text/plain": "0    Deluxe\n1    Deluxe\n2     Basic\n3     Basic\n4     Basic\nName: ProductPitched, dtype: object"
     },
     "execution_count": 27,
     "metadata": {},
     "output_type": "execute_result"
    }
   ],
   "source": [
    "# Original column\n",
    "\n",
    "df.ProductPitched.head()"
   ],
   "metadata": {
    "collapsed": false,
    "pycharm": {
     "name": "#%%\n"
    }
   }
  },
  {
   "cell_type": "code",
   "execution_count": 28,
   "outputs": [
    {
     "data": {
      "text/plain": "     0    1    2\n0  0.0  3.0  3.0\n1  0.0  3.0  3.0\n2 -2.0  0.0 -1.0\n3 -2.0  0.0 -1.0\n4 -2.0  0.0 -1.0\n5 -2.0  0.0 -1.0\n6 -2.0  0.0 -1.0\n7 -2.0  0.0 -1.0\n8 -3.0  3.0  2.0\n9  0.0  3.0  3.0",
      "text/html": "<div>\n<style scoped>\n    .dataframe tbody tr th:only-of-type {\n        vertical-align: middle;\n    }\n\n    .dataframe tbody tr th {\n        vertical-align: top;\n    }\n\n    .dataframe thead th {\n        text-align: right;\n    }\n</style>\n<table border=\"1\" class=\"dataframe\">\n  <thead>\n    <tr style=\"text-align: right;\">\n      <th></th>\n      <th>0</th>\n      <th>1</th>\n      <th>2</th>\n    </tr>\n  </thead>\n  <tbody>\n    <tr>\n      <th>0</th>\n      <td>0.0</td>\n      <td>3.0</td>\n      <td>3.0</td>\n    </tr>\n    <tr>\n      <th>1</th>\n      <td>0.0</td>\n      <td>3.0</td>\n      <td>3.0</td>\n    </tr>\n    <tr>\n      <th>2</th>\n      <td>-2.0</td>\n      <td>0.0</td>\n      <td>-1.0</td>\n    </tr>\n    <tr>\n      <th>3</th>\n      <td>-2.0</td>\n      <td>0.0</td>\n      <td>-1.0</td>\n    </tr>\n    <tr>\n      <th>4</th>\n      <td>-2.0</td>\n      <td>0.0</td>\n      <td>-1.0</td>\n    </tr>\n    <tr>\n      <th>5</th>\n      <td>-2.0</td>\n      <td>0.0</td>\n      <td>-1.0</td>\n    </tr>\n    <tr>\n      <th>6</th>\n      <td>-2.0</td>\n      <td>0.0</td>\n      <td>-1.0</td>\n    </tr>\n    <tr>\n      <th>7</th>\n      <td>-2.0</td>\n      <td>0.0</td>\n      <td>-1.0</td>\n    </tr>\n    <tr>\n      <th>8</th>\n      <td>-3.0</td>\n      <td>3.0</td>\n      <td>2.0</td>\n    </tr>\n    <tr>\n      <th>9</th>\n      <td>0.0</td>\n      <td>3.0</td>\n      <td>3.0</td>\n    </tr>\n  </tbody>\n</table>\n</div>"
     },
     "execution_count": 28,
     "metadata": {},
     "output_type": "execute_result"
    }
   ],
   "source": [
    "from sklearn.feature_extraction import FeatureHasher\n",
    "\n",
    "# n_features contains the number of bits you want in your hash value.\n",
    "h = FeatureHasher(n_features = 3, input_type ='string')\n",
    "\n",
    "# transforming the column after fitting\n",
    "hashed_Feature = h.fit_transform(df['ProductPitched'])\n",
    "hashed_Feature = hashed_Feature.toarray()\n",
    "\n",
    "df = pd.concat([df, pd.DataFrame(hashed_Feature)], axis = 1)\n",
    "\n",
    "df[[0,1,2]].head(10)\n"
   ],
   "metadata": {
    "collapsed": false,
    "pycharm": {
     "name": "#%%\n"
    }
   }
  },
  {
   "cell_type": "markdown",
   "source": [],
   "metadata": {
    "collapsed": false,
    "pycharm": {
     "name": "#%% md\n"
    }
   }
  },
  {
   "cell_type": "markdown",
   "source": [
    ">> #### Method 2 : Using category_encoders"
   ],
   "metadata": {
    "collapsed": false,
    "pycharm": {
     "name": "#%% md\n"
    }
   }
  },
  {
   "cell_type": "code",
   "execution_count": 29,
   "outputs": [],
   "source": [
    "df = df_orig.copy()"
   ],
   "metadata": {
    "collapsed": false,
    "pycharm": {
     "name": "#%%\n"
    }
   }
  },
  {
   "cell_type": "code",
   "execution_count": 30,
   "outputs": [
    {
     "data": {
      "text/plain": "   col_0  col_1  col_2  col_3  col_4  col_5  col_6  col_7  CustomerID  \\\n0      0      0      0      0      0      0      1      0      200000   \n1      0      0      0      0      0      0      1      0      200001   \n2      0      0      0      0      1      0      0      0      200002   \n3      0      0      0      0      1      0      0      0      200003   \n4      0      0      0      0      1      0      0      0      200004   \n\n   ProdTaken  ...  NumberOfFollowups PreferredPropertyStar  MaritalStatus  \\\n0          1  ...                3.0                   3.0         Single   \n1          0  ...                4.0                   4.0       Divorced   \n2          1  ...                4.0                   3.0         Single   \n3          0  ...                3.0                   3.0       Divorced   \n4          0  ...                3.0                   4.0       Divorced   \n\n   NumberOfTrips Passport PitchSatisfactionScore  OwnCar  \\\n0            1.0        1                      2       1   \n1            2.0        0                      3       1   \n2            7.0        1                      3       0   \n3            2.0        1                      5       1   \n4            1.0        0                      5       1   \n\n   NumberOfChildrenVisiting  Designation MonthlyIncome  \n0                       0.0      Manager       20993.0  \n1                       2.0      Manager       20130.0  \n2                       0.0    Executive       17090.0  \n3                       1.0    Executive       17909.0  \n4                       0.0    Executive       18468.0  \n\n[5 rows x 27 columns]",
      "text/html": "<div>\n<style scoped>\n    .dataframe tbody tr th:only-of-type {\n        vertical-align: middle;\n    }\n\n    .dataframe tbody tr th {\n        vertical-align: top;\n    }\n\n    .dataframe thead th {\n        text-align: right;\n    }\n</style>\n<table border=\"1\" class=\"dataframe\">\n  <thead>\n    <tr style=\"text-align: right;\">\n      <th></th>\n      <th>col_0</th>\n      <th>col_1</th>\n      <th>col_2</th>\n      <th>col_3</th>\n      <th>col_4</th>\n      <th>col_5</th>\n      <th>col_6</th>\n      <th>col_7</th>\n      <th>CustomerID</th>\n      <th>ProdTaken</th>\n      <th>...</th>\n      <th>NumberOfFollowups</th>\n      <th>PreferredPropertyStar</th>\n      <th>MaritalStatus</th>\n      <th>NumberOfTrips</th>\n      <th>Passport</th>\n      <th>PitchSatisfactionScore</th>\n      <th>OwnCar</th>\n      <th>NumberOfChildrenVisiting</th>\n      <th>Designation</th>\n      <th>MonthlyIncome</th>\n    </tr>\n  </thead>\n  <tbody>\n    <tr>\n      <th>0</th>\n      <td>0</td>\n      <td>0</td>\n      <td>0</td>\n      <td>0</td>\n      <td>0</td>\n      <td>0</td>\n      <td>1</td>\n      <td>0</td>\n      <td>200000</td>\n      <td>1</td>\n      <td>...</td>\n      <td>3.0</td>\n      <td>3.0</td>\n      <td>Single</td>\n      <td>1.0</td>\n      <td>1</td>\n      <td>2</td>\n      <td>1</td>\n      <td>0.0</td>\n      <td>Manager</td>\n      <td>20993.0</td>\n    </tr>\n    <tr>\n      <th>1</th>\n      <td>0</td>\n      <td>0</td>\n      <td>0</td>\n      <td>0</td>\n      <td>0</td>\n      <td>0</td>\n      <td>1</td>\n      <td>0</td>\n      <td>200001</td>\n      <td>0</td>\n      <td>...</td>\n      <td>4.0</td>\n      <td>4.0</td>\n      <td>Divorced</td>\n      <td>2.0</td>\n      <td>0</td>\n      <td>3</td>\n      <td>1</td>\n      <td>2.0</td>\n      <td>Manager</td>\n      <td>20130.0</td>\n    </tr>\n    <tr>\n      <th>2</th>\n      <td>0</td>\n      <td>0</td>\n      <td>0</td>\n      <td>0</td>\n      <td>1</td>\n      <td>0</td>\n      <td>0</td>\n      <td>0</td>\n      <td>200002</td>\n      <td>1</td>\n      <td>...</td>\n      <td>4.0</td>\n      <td>3.0</td>\n      <td>Single</td>\n      <td>7.0</td>\n      <td>1</td>\n      <td>3</td>\n      <td>0</td>\n      <td>0.0</td>\n      <td>Executive</td>\n      <td>17090.0</td>\n    </tr>\n    <tr>\n      <th>3</th>\n      <td>0</td>\n      <td>0</td>\n      <td>0</td>\n      <td>0</td>\n      <td>1</td>\n      <td>0</td>\n      <td>0</td>\n      <td>0</td>\n      <td>200003</td>\n      <td>0</td>\n      <td>...</td>\n      <td>3.0</td>\n      <td>3.0</td>\n      <td>Divorced</td>\n      <td>2.0</td>\n      <td>1</td>\n      <td>5</td>\n      <td>1</td>\n      <td>1.0</td>\n      <td>Executive</td>\n      <td>17909.0</td>\n    </tr>\n    <tr>\n      <th>4</th>\n      <td>0</td>\n      <td>0</td>\n      <td>0</td>\n      <td>0</td>\n      <td>1</td>\n      <td>0</td>\n      <td>0</td>\n      <td>0</td>\n      <td>200004</td>\n      <td>0</td>\n      <td>...</td>\n      <td>3.0</td>\n      <td>4.0</td>\n      <td>Divorced</td>\n      <td>1.0</td>\n      <td>0</td>\n      <td>5</td>\n      <td>1</td>\n      <td>0.0</td>\n      <td>Executive</td>\n      <td>18468.0</td>\n    </tr>\n  </tbody>\n</table>\n<p>5 rows × 27 columns</p>\n</div>"
     },
     "execution_count": 30,
     "metadata": {},
     "output_type": "execute_result"
    }
   ],
   "source": [
    "from category_encoders import HashingEncoder\n",
    "\n",
    "hash = HashingEncoder(cols=['ProductPitched']).fit(df).transform(df)\n",
    "\n",
    "hash.head()"
   ],
   "metadata": {
    "collapsed": false,
    "pycharm": {
     "name": "#%%\n"
    }
   }
  },
  {
   "cell_type": "markdown",
   "source": [],
   "metadata": {
    "collapsed": false,
    "pycharm": {
     "name": "#%% md\n"
    }
   }
  },
  {
   "cell_type": "markdown",
   "source": [
    "> #### Observations :-\n",
    "> - Since Hashing transforms the data in lesser dimensions, it may lead to loss of information. Another issue faced by hashing encoder is the collision.\n",
    "> - Since here, a large number of features are depicted into lesser dimensions, hence multiple values can be represented by the same hash value, this is known as a collision.\n",
    "> - Moreover, hashing encoders have been very successful in some Kaggle competitions. It is great to try if the dataset has high cardinality features."
   ],
   "metadata": {
    "collapsed": false,
    "pycharm": {
     "name": "#%% md\n"
    }
   }
  },
  {
   "cell_type": "markdown",
   "source": [],
   "metadata": {
    "collapsed": false,
    "pycharm": {
     "name": "#%% md\n"
    }
   }
  },
  {
   "cell_type": "markdown",
   "source": [
    "------------------------------------------------------------------------"
   ],
   "metadata": {
    "collapsed": false,
    "pycharm": {
     "name": "#%% md\n"
    }
   }
  },
  {
   "cell_type": "markdown",
   "source": [],
   "metadata": {
    "collapsed": false,
    "pycharm": {
     "name": "#%% md\n"
    }
   }
  },
  {
   "cell_type": "markdown",
   "source": [
    "# Conclusion\n",
    "\n",
    "To summarize, encoding categorical data is an unavoidable part of the feature engineering.\n",
    "\n",
    "It is more important to know what coding scheme should we use. Having into consideration the dataset we are working with and the model we are going to use.\n",
    "\n",
    "So, which one should you use?\n",
    "\n",
    "It depends on the dataset, the model, and the performance metric you are trying to optimize. In general, **one-hot encoding** is the most commonly used method for nominal variables. It is simple to understand and implement, and it works well with most machine learning models. To fight the curse of dimensionality, **binary encoding** might be a good alternative to one-hot encoding because it creates fewer columns when encoding categorical variables.\n",
    "\n",
    "**Ordinal encoding** is a good choice if the order of the categorical variables matters. For example, if we were predicting the price of a house, the label “small”, “medium”, and “large” would imply that a small house is cheaper than a medium house, which is cheaper than a large house. The label is easily reversible and doesn’t increase the dimensionality of the data.\n",
    "\n",
    "On the other hand, the **target encoding** is a supervised encoder that captures information about the label and potentially predictive features. This encoder does not increase the dimensionality of the feature space, but can lead to overfitting and is prone to target leakage.\n",
    "\n",
    "The **frequency and count encoders** are also supervised methods that do not increase the dimensionality of the feature space. However, these methods can only be used if the count refers to the target variable, otherwise, all categories that have similar cardinality will be counted the same.\n",
    "\n",
    "The **feature hashing** is a good way to handle categorical variables when the cardinality is very high as it is fast to compute and does not grow in size when adding categories."
   ],
   "metadata": {
    "collapsed": false,
    "pycharm": {
     "name": "#%% md\n"
    }
   }
  }
 ],
 "metadata": {
  "kernelspec": {
   "display_name": "Python 3",
   "language": "python",
   "name": "python3"
  },
  "language_info": {
   "codemirror_mode": {
    "name": "ipython",
    "version": 2
   },
   "file_extension": ".py",
   "mimetype": "text/x-python",
   "name": "python",
   "nbconvert_exporter": "python",
   "pygments_lexer": "ipython2",
   "version": "2.7.6"
  }
 },
 "nbformat": 4,
 "nbformat_minor": 0
}