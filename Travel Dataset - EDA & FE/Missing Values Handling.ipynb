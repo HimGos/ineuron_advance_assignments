{
 "cells": [
  {
   "cell_type": "markdown",
   "source": [
    "# Missing Value Handling\n",
    "\n",
    "[Himanshu Goswami](https://github.com/HimGos) - September 2022"
   ],
   "metadata": {
    "collapsed": false,
    "pycharm": {
     "name": "#%% md\n"
    }
   }
  },
  {
   "cell_type": "markdown",
   "source": [],
   "metadata": {
    "collapsed": false,
    "pycharm": {
     "name": "#%% md\n"
    }
   }
  },
  {
   "cell_type": "markdown",
   "source": [
    "Missing values in a dataset can be a hornet’s nest for any data scientist. Variables with missing values can be a non-trivial problem as there is no easy way out to deal with them.\n",
    "\n",
    "Generally, if the proportion of missing observations in data is small relative to the total number of observations, we can simply remove those observations. However, this is not the most often case. Deleting the rows containing missing values may lead to parting away with useful information or patterns.\n",
    "\n",
    "Python libraries represent missing numbers as nan which is short for \"not a number\". We can detect which cells have missing values, and then count how many there are in each column with the command:\n",
    "`df.isnull().sum()`\n",
    "\n",
    "There are various strategies to handle missing values, some of them are :-\n",
    "- Drop the row\n",
    "- Random Filling\n",
    "- Forward Filling\n",
    "- Backward filling\n",
    "- Stats Approach - Mean, Median, Mode\n",
    "- Knn Imputer\n",
    "- End of distribution\n",
    "- ML Algo which support missing value\n",
    "- Custom ML Model (self-made)\n",
    "\n",
    "Let's see some of these strategies in action!"
   ],
   "metadata": {
    "collapsed": false,
    "pycharm": {
     "name": "#%% md\n"
    }
   }
  },
  {
   "cell_type": "markdown",
   "source": [],
   "metadata": {
    "collapsed": false,
    "pycharm": {
     "name": "#%% md\n"
    }
   }
  },
  {
   "cell_type": "code",
   "execution_count": 1,
   "outputs": [],
   "source": [
    "# Importing required libraries\n",
    "\n",
    "import pandas as pd\n",
    "import numpy as np\n",
    "from sklearn.impute import KNNImputer\n",
    "import random\n",
    "import matplotlib.pyplot as plt\n",
    "%matplotlib inline\n",
    "import seaborn as sns\n",
    "import warnings\n",
    "warnings.filterwarnings(\"ignore\")"
   ],
   "metadata": {
    "collapsed": false,
    "pycharm": {
     "name": "#%%\n"
    }
   }
  },
  {
   "cell_type": "code",
   "execution_count": 2,
   "outputs": [],
   "source": [
    "# Loading dataset\n",
    "\n",
    "df = pd.read_csv('data/Travel.csv')"
   ],
   "metadata": {
    "collapsed": false,
    "pycharm": {
     "name": "#%%\n"
    }
   }
  },
  {
   "cell_type": "code",
   "execution_count": 3,
   "outputs": [
    {
     "data": {
      "text/plain": "   CustomerID  ProdTaken   Age    TypeofContact  CityTier  DurationOfPitch  \\\n0      200000          1  41.0     Self Enquiry         3              6.0   \n1      200001          0  49.0  Company Invited         1             14.0   \n2      200002          1  37.0     Self Enquiry         1              8.0   \n3      200003          0  33.0  Company Invited         1              9.0   \n4      200004          0   NaN     Self Enquiry         1              8.0   \n\n       Occupation  Gender  NumberOfPersonVisiting  NumberOfFollowups  \\\n0        Salaried  Female                       3                3.0   \n1        Salaried    Male                       3                4.0   \n2     Free Lancer    Male                       3                4.0   \n3        Salaried  Female                       2                3.0   \n4  Small Business    Male                       2                3.0   \n\n  ProductPitched  PreferredPropertyStar MaritalStatus  NumberOfTrips  \\\n0         Deluxe                    3.0        Single            1.0   \n1         Deluxe                    4.0      Divorced            2.0   \n2          Basic                    3.0        Single            7.0   \n3          Basic                    3.0      Divorced            2.0   \n4          Basic                    4.0      Divorced            1.0   \n\n   Passport  PitchSatisfactionScore  OwnCar  NumberOfChildrenVisiting  \\\n0         1                       2       1                       0.0   \n1         0                       3       1                       2.0   \n2         1                       3       0                       0.0   \n3         1                       5       1                       1.0   \n4         0                       5       1                       0.0   \n\n  Designation  MonthlyIncome  \n0     Manager        20993.0  \n1     Manager        20130.0  \n2   Executive        17090.0  \n3   Executive        17909.0  \n4   Executive        18468.0  ",
      "text/html": "<div>\n<style scoped>\n    .dataframe tbody tr th:only-of-type {\n        vertical-align: middle;\n    }\n\n    .dataframe tbody tr th {\n        vertical-align: top;\n    }\n\n    .dataframe thead th {\n        text-align: right;\n    }\n</style>\n<table border=\"1\" class=\"dataframe\">\n  <thead>\n    <tr style=\"text-align: right;\">\n      <th></th>\n      <th>CustomerID</th>\n      <th>ProdTaken</th>\n      <th>Age</th>\n      <th>TypeofContact</th>\n      <th>CityTier</th>\n      <th>DurationOfPitch</th>\n      <th>Occupation</th>\n      <th>Gender</th>\n      <th>NumberOfPersonVisiting</th>\n      <th>NumberOfFollowups</th>\n      <th>ProductPitched</th>\n      <th>PreferredPropertyStar</th>\n      <th>MaritalStatus</th>\n      <th>NumberOfTrips</th>\n      <th>Passport</th>\n      <th>PitchSatisfactionScore</th>\n      <th>OwnCar</th>\n      <th>NumberOfChildrenVisiting</th>\n      <th>Designation</th>\n      <th>MonthlyIncome</th>\n    </tr>\n  </thead>\n  <tbody>\n    <tr>\n      <th>0</th>\n      <td>200000</td>\n      <td>1</td>\n      <td>41.0</td>\n      <td>Self Enquiry</td>\n      <td>3</td>\n      <td>6.0</td>\n      <td>Salaried</td>\n      <td>Female</td>\n      <td>3</td>\n      <td>3.0</td>\n      <td>Deluxe</td>\n      <td>3.0</td>\n      <td>Single</td>\n      <td>1.0</td>\n      <td>1</td>\n      <td>2</td>\n      <td>1</td>\n      <td>0.0</td>\n      <td>Manager</td>\n      <td>20993.0</td>\n    </tr>\n    <tr>\n      <th>1</th>\n      <td>200001</td>\n      <td>0</td>\n      <td>49.0</td>\n      <td>Company Invited</td>\n      <td>1</td>\n      <td>14.0</td>\n      <td>Salaried</td>\n      <td>Male</td>\n      <td>3</td>\n      <td>4.0</td>\n      <td>Deluxe</td>\n      <td>4.0</td>\n      <td>Divorced</td>\n      <td>2.0</td>\n      <td>0</td>\n      <td>3</td>\n      <td>1</td>\n      <td>2.0</td>\n      <td>Manager</td>\n      <td>20130.0</td>\n    </tr>\n    <tr>\n      <th>2</th>\n      <td>200002</td>\n      <td>1</td>\n      <td>37.0</td>\n      <td>Self Enquiry</td>\n      <td>1</td>\n      <td>8.0</td>\n      <td>Free Lancer</td>\n      <td>Male</td>\n      <td>3</td>\n      <td>4.0</td>\n      <td>Basic</td>\n      <td>3.0</td>\n      <td>Single</td>\n      <td>7.0</td>\n      <td>1</td>\n      <td>3</td>\n      <td>0</td>\n      <td>0.0</td>\n      <td>Executive</td>\n      <td>17090.0</td>\n    </tr>\n    <tr>\n      <th>3</th>\n      <td>200003</td>\n      <td>0</td>\n      <td>33.0</td>\n      <td>Company Invited</td>\n      <td>1</td>\n      <td>9.0</td>\n      <td>Salaried</td>\n      <td>Female</td>\n      <td>2</td>\n      <td>3.0</td>\n      <td>Basic</td>\n      <td>3.0</td>\n      <td>Divorced</td>\n      <td>2.0</td>\n      <td>1</td>\n      <td>5</td>\n      <td>1</td>\n      <td>1.0</td>\n      <td>Executive</td>\n      <td>17909.0</td>\n    </tr>\n    <tr>\n      <th>4</th>\n      <td>200004</td>\n      <td>0</td>\n      <td>NaN</td>\n      <td>Self Enquiry</td>\n      <td>1</td>\n      <td>8.0</td>\n      <td>Small Business</td>\n      <td>Male</td>\n      <td>2</td>\n      <td>3.0</td>\n      <td>Basic</td>\n      <td>4.0</td>\n      <td>Divorced</td>\n      <td>1.0</td>\n      <td>0</td>\n      <td>5</td>\n      <td>1</td>\n      <td>0.0</td>\n      <td>Executive</td>\n      <td>18468.0</td>\n    </tr>\n  </tbody>\n</table>\n</div>"
     },
     "execution_count": 3,
     "metadata": {},
     "output_type": "execute_result"
    }
   ],
   "source": [
    "# Checking Data\n",
    "\n",
    "df.head()"
   ],
   "metadata": {
    "collapsed": false,
    "pycharm": {
     "name": "#%%\n"
    }
   }
  },
  {
   "cell_type": "code",
   "execution_count": 4,
   "outputs": [
    {
     "data": {
      "text/plain": "(4888, 20)"
     },
     "execution_count": 4,
     "metadata": {},
     "output_type": "execute_result"
    }
   ],
   "source": [
    "df.shape"
   ],
   "metadata": {
    "collapsed": false,
    "pycharm": {
     "name": "#%%\n"
    }
   }
  },
  {
   "cell_type": "code",
   "execution_count": 5,
   "outputs": [
    {
     "data": {
      "text/plain": "CustomerID                    0\nProdTaken                     0\nAge                         226\nTypeofContact                25\nCityTier                      0\nDurationOfPitch             251\nOccupation                    0\nGender                        0\nNumberOfPersonVisiting        0\nNumberOfFollowups            45\nProductPitched                0\nPreferredPropertyStar        26\nMaritalStatus                 0\nNumberOfTrips               140\nPassport                      0\nPitchSatisfactionScore        0\nOwnCar                        0\nNumberOfChildrenVisiting     66\nDesignation                   0\nMonthlyIncome               233\ndtype: int64"
     },
     "execution_count": 5,
     "metadata": {},
     "output_type": "execute_result"
    }
   ],
   "source": [
    "# Checking how many missing values data has\n",
    "\n",
    "df.isnull().sum()"
   ],
   "metadata": {
    "collapsed": false,
    "pycharm": {
     "name": "#%%\n"
    }
   }
  },
  {
   "cell_type": "markdown",
   "source": [],
   "metadata": {
    "collapsed": false,
    "pycharm": {
     "name": "#%% md\n"
    }
   }
  },
  {
   "cell_type": "markdown",
   "source": [
    "***We can see some rows has upto 251 missing values.***"
   ],
   "metadata": {
    "collapsed": false,
    "pycharm": {
     "name": "#%% md\n"
    }
   }
  },
  {
   "cell_type": "code",
   "execution_count": 6,
   "outputs": [],
   "source": [
    "# Before we start using strategies, let's create a copy of our dataset first so that we don't have to reload data for next strategies\n",
    "\n",
    "df_orig = df.copy()\n"
   ],
   "metadata": {
    "collapsed": false,
    "pycharm": {
     "name": "#%%\n"
    }
   }
  },
  {
   "cell_type": "markdown",
   "source": [],
   "metadata": {
    "collapsed": false,
    "pycharm": {
     "name": "#%% md\n"
    }
   }
  },
  {
   "cell_type": "markdown",
   "source": [
    "> ## Method 1 :- Drop the Row"
   ],
   "metadata": {
    "collapsed": false,
    "pycharm": {
     "name": "#%% md\n"
    }
   }
  },
  {
   "cell_type": "markdown",
   "source": [
    "- This method is not recommended especially when we have a large dataset with many missing values.\n",
    "- Dropping many rows will result in loss of information and may give undesired results."
   ],
   "metadata": {
    "collapsed": false,
    "pycharm": {
     "name": "#%% md\n"
    }
   }
  },
  {
   "cell_type": "code",
   "execution_count": 7,
   "outputs": [
    {
     "data": {
      "text/plain": "(4888, 20)"
     },
     "execution_count": 7,
     "metadata": {},
     "output_type": "execute_result"
    }
   ],
   "source": [
    "# Checking current shape of data\n",
    "\n",
    "df.shape"
   ],
   "metadata": {
    "collapsed": false,
    "pycharm": {
     "name": "#%%\n"
    }
   }
  },
  {
   "cell_type": "code",
   "execution_count": 8,
   "outputs": [
    {
     "data": {
      "text/plain": "    CustomerID  ProdTaken  Age    TypeofContact  CityTier  DurationOfPitch  \\\n4       200004          0  NaN     Self Enquiry         1              8.0   \n11      200011          0  NaN     Self Enquiry         1             21.0   \n19      200019          0  NaN     Self Enquiry         1              8.0   \n20      200020          0  NaN  Company Invited         1             17.0   \n21      200021          1  NaN     Self Enquiry         3             15.0   \n\n        Occupation  Gender  NumberOfPersonVisiting  NumberOfFollowups  \\\n4   Small Business    Male                       2                3.0   \n11        Salaried  Female                       2                4.0   \n19        Salaried    Male                       2                3.0   \n20        Salaried  Female                       3                2.0   \n21        Salaried    Male                       2                4.0   \n\n   ProductPitched  PreferredPropertyStar MaritalStatus  NumberOfTrips  \\\n4           Basic                    4.0      Divorced            1.0   \n11         Deluxe                    3.0        Single            1.0   \n19          Basic                    3.0        Single            6.0   \n20         Deluxe                    3.0       Married            1.0   \n21         Deluxe                    5.0        Single            1.0   \n\n    Passport  PitchSatisfactionScore  OwnCar  NumberOfChildrenVisiting  \\\n4          0                       5       1                       0.0   \n11         1                       3       0                       0.0   \n19         1                       4       0                       1.0   \n20         0                       3       1                       2.0   \n21         0                       2       0                       0.0   \n\n   Designation  MonthlyIncome  \n4    Executive        18468.0  \n11     Manager            NaN  \n19   Executive            NaN  \n20     Manager            NaN  \n21     Manager        18407.0  ",
      "text/html": "<div>\n<style scoped>\n    .dataframe tbody tr th:only-of-type {\n        vertical-align: middle;\n    }\n\n    .dataframe tbody tr th {\n        vertical-align: top;\n    }\n\n    .dataframe thead th {\n        text-align: right;\n    }\n</style>\n<table border=\"1\" class=\"dataframe\">\n  <thead>\n    <tr style=\"text-align: right;\">\n      <th></th>\n      <th>CustomerID</th>\n      <th>ProdTaken</th>\n      <th>Age</th>\n      <th>TypeofContact</th>\n      <th>CityTier</th>\n      <th>DurationOfPitch</th>\n      <th>Occupation</th>\n      <th>Gender</th>\n      <th>NumberOfPersonVisiting</th>\n      <th>NumberOfFollowups</th>\n      <th>ProductPitched</th>\n      <th>PreferredPropertyStar</th>\n      <th>MaritalStatus</th>\n      <th>NumberOfTrips</th>\n      <th>Passport</th>\n      <th>PitchSatisfactionScore</th>\n      <th>OwnCar</th>\n      <th>NumberOfChildrenVisiting</th>\n      <th>Designation</th>\n      <th>MonthlyIncome</th>\n    </tr>\n  </thead>\n  <tbody>\n    <tr>\n      <th>4</th>\n      <td>200004</td>\n      <td>0</td>\n      <td>NaN</td>\n      <td>Self Enquiry</td>\n      <td>1</td>\n      <td>8.0</td>\n      <td>Small Business</td>\n      <td>Male</td>\n      <td>2</td>\n      <td>3.0</td>\n      <td>Basic</td>\n      <td>4.0</td>\n      <td>Divorced</td>\n      <td>1.0</td>\n      <td>0</td>\n      <td>5</td>\n      <td>1</td>\n      <td>0.0</td>\n      <td>Executive</td>\n      <td>18468.0</td>\n    </tr>\n    <tr>\n      <th>11</th>\n      <td>200011</td>\n      <td>0</td>\n      <td>NaN</td>\n      <td>Self Enquiry</td>\n      <td>1</td>\n      <td>21.0</td>\n      <td>Salaried</td>\n      <td>Female</td>\n      <td>2</td>\n      <td>4.0</td>\n      <td>Deluxe</td>\n      <td>3.0</td>\n      <td>Single</td>\n      <td>1.0</td>\n      <td>1</td>\n      <td>3</td>\n      <td>0</td>\n      <td>0.0</td>\n      <td>Manager</td>\n      <td>NaN</td>\n    </tr>\n    <tr>\n      <th>19</th>\n      <td>200019</td>\n      <td>0</td>\n      <td>NaN</td>\n      <td>Self Enquiry</td>\n      <td>1</td>\n      <td>8.0</td>\n      <td>Salaried</td>\n      <td>Male</td>\n      <td>2</td>\n      <td>3.0</td>\n      <td>Basic</td>\n      <td>3.0</td>\n      <td>Single</td>\n      <td>6.0</td>\n      <td>1</td>\n      <td>4</td>\n      <td>0</td>\n      <td>1.0</td>\n      <td>Executive</td>\n      <td>NaN</td>\n    </tr>\n    <tr>\n      <th>20</th>\n      <td>200020</td>\n      <td>0</td>\n      <td>NaN</td>\n      <td>Company Invited</td>\n      <td>1</td>\n      <td>17.0</td>\n      <td>Salaried</td>\n      <td>Female</td>\n      <td>3</td>\n      <td>2.0</td>\n      <td>Deluxe</td>\n      <td>3.0</td>\n      <td>Married</td>\n      <td>1.0</td>\n      <td>0</td>\n      <td>3</td>\n      <td>1</td>\n      <td>2.0</td>\n      <td>Manager</td>\n      <td>NaN</td>\n    </tr>\n    <tr>\n      <th>21</th>\n      <td>200021</td>\n      <td>1</td>\n      <td>NaN</td>\n      <td>Self Enquiry</td>\n      <td>3</td>\n      <td>15.0</td>\n      <td>Salaried</td>\n      <td>Male</td>\n      <td>2</td>\n      <td>4.0</td>\n      <td>Deluxe</td>\n      <td>5.0</td>\n      <td>Single</td>\n      <td>1.0</td>\n      <td>0</td>\n      <td>2</td>\n      <td>0</td>\n      <td>0.0</td>\n      <td>Manager</td>\n      <td>18407.0</td>\n    </tr>\n  </tbody>\n</table>\n</div>"
     },
     "execution_count": 8,
     "metadata": {},
     "output_type": "execute_result"
    }
   ],
   "source": [
    "# We can see all the rows which has atleast 1 null value\n",
    "\n",
    "df[df.isnull().any(axis=1)].head()"
   ],
   "metadata": {
    "collapsed": false,
    "pycharm": {
     "name": "#%%\n"
    }
   }
  },
  {
   "cell_type": "code",
   "execution_count": 9,
   "outputs": [],
   "source": [
    "any_null_df = df[df.isnull().any(axis=1)]"
   ],
   "metadata": {
    "collapsed": false,
    "pycharm": {
     "name": "#%%\n"
    }
   }
  },
  {
   "cell_type": "code",
   "execution_count": 10,
   "outputs": [
    {
     "data": {
      "text/plain": "(760, 20)"
     },
     "execution_count": 10,
     "metadata": {},
     "output_type": "execute_result"
    }
   ],
   "source": [
    "# Checking shape of this dataset which has even a single null value in entire row\n",
    "\n",
    "any_null_df.shape"
   ],
   "metadata": {
    "collapsed": false,
    "pycharm": {
     "name": "#%%\n"
    }
   }
  },
  {
   "cell_type": "code",
   "execution_count": 11,
   "outputs": [
    {
     "data": {
      "text/plain": "   CustomerID  ProdTaken   Age    TypeofContact  CityTier  DurationOfPitch  \\\n0      200000          1  41.0     Self Enquiry         3              6.0   \n1      200001          0  49.0  Company Invited         1             14.0   \n2      200002          1  37.0     Self Enquiry         1              8.0   \n3      200003          0  33.0  Company Invited         1              9.0   \n5      200005          0  32.0  Company Invited         1              8.0   \n\n    Occupation  Gender  NumberOfPersonVisiting  NumberOfFollowups  \\\n0     Salaried  Female                       3                3.0   \n1     Salaried    Male                       3                4.0   \n2  Free Lancer    Male                       3                4.0   \n3     Salaried  Female                       2                3.0   \n5     Salaried    Male                       3                3.0   \n\n  ProductPitched  PreferredPropertyStar MaritalStatus  NumberOfTrips  \\\n0         Deluxe                    3.0        Single            1.0   \n1         Deluxe                    4.0      Divorced            2.0   \n2          Basic                    3.0        Single            7.0   \n3          Basic                    3.0      Divorced            2.0   \n5          Basic                    3.0        Single            1.0   \n\n   Passport  PitchSatisfactionScore  OwnCar  NumberOfChildrenVisiting  \\\n0         1                       2       1                       0.0   \n1         0                       3       1                       2.0   \n2         1                       3       0                       0.0   \n3         1                       5       1                       1.0   \n5         0                       5       1                       1.0   \n\n  Designation  MonthlyIncome  \n0     Manager        20993.0  \n1     Manager        20130.0  \n2   Executive        17090.0  \n3   Executive        17909.0  \n5   Executive        18068.0  ",
      "text/html": "<div>\n<style scoped>\n    .dataframe tbody tr th:only-of-type {\n        vertical-align: middle;\n    }\n\n    .dataframe tbody tr th {\n        vertical-align: top;\n    }\n\n    .dataframe thead th {\n        text-align: right;\n    }\n</style>\n<table border=\"1\" class=\"dataframe\">\n  <thead>\n    <tr style=\"text-align: right;\">\n      <th></th>\n      <th>CustomerID</th>\n      <th>ProdTaken</th>\n      <th>Age</th>\n      <th>TypeofContact</th>\n      <th>CityTier</th>\n      <th>DurationOfPitch</th>\n      <th>Occupation</th>\n      <th>Gender</th>\n      <th>NumberOfPersonVisiting</th>\n      <th>NumberOfFollowups</th>\n      <th>ProductPitched</th>\n      <th>PreferredPropertyStar</th>\n      <th>MaritalStatus</th>\n      <th>NumberOfTrips</th>\n      <th>Passport</th>\n      <th>PitchSatisfactionScore</th>\n      <th>OwnCar</th>\n      <th>NumberOfChildrenVisiting</th>\n      <th>Designation</th>\n      <th>MonthlyIncome</th>\n    </tr>\n  </thead>\n  <tbody>\n    <tr>\n      <th>0</th>\n      <td>200000</td>\n      <td>1</td>\n      <td>41.0</td>\n      <td>Self Enquiry</td>\n      <td>3</td>\n      <td>6.0</td>\n      <td>Salaried</td>\n      <td>Female</td>\n      <td>3</td>\n      <td>3.0</td>\n      <td>Deluxe</td>\n      <td>3.0</td>\n      <td>Single</td>\n      <td>1.0</td>\n      <td>1</td>\n      <td>2</td>\n      <td>1</td>\n      <td>0.0</td>\n      <td>Manager</td>\n      <td>20993.0</td>\n    </tr>\n    <tr>\n      <th>1</th>\n      <td>200001</td>\n      <td>0</td>\n      <td>49.0</td>\n      <td>Company Invited</td>\n      <td>1</td>\n      <td>14.0</td>\n      <td>Salaried</td>\n      <td>Male</td>\n      <td>3</td>\n      <td>4.0</td>\n      <td>Deluxe</td>\n      <td>4.0</td>\n      <td>Divorced</td>\n      <td>2.0</td>\n      <td>0</td>\n      <td>3</td>\n      <td>1</td>\n      <td>2.0</td>\n      <td>Manager</td>\n      <td>20130.0</td>\n    </tr>\n    <tr>\n      <th>2</th>\n      <td>200002</td>\n      <td>1</td>\n      <td>37.0</td>\n      <td>Self Enquiry</td>\n      <td>1</td>\n      <td>8.0</td>\n      <td>Free Lancer</td>\n      <td>Male</td>\n      <td>3</td>\n      <td>4.0</td>\n      <td>Basic</td>\n      <td>3.0</td>\n      <td>Single</td>\n      <td>7.0</td>\n      <td>1</td>\n      <td>3</td>\n      <td>0</td>\n      <td>0.0</td>\n      <td>Executive</td>\n      <td>17090.0</td>\n    </tr>\n    <tr>\n      <th>3</th>\n      <td>200003</td>\n      <td>0</td>\n      <td>33.0</td>\n      <td>Company Invited</td>\n      <td>1</td>\n      <td>9.0</td>\n      <td>Salaried</td>\n      <td>Female</td>\n      <td>2</td>\n      <td>3.0</td>\n      <td>Basic</td>\n      <td>3.0</td>\n      <td>Divorced</td>\n      <td>2.0</td>\n      <td>1</td>\n      <td>5</td>\n      <td>1</td>\n      <td>1.0</td>\n      <td>Executive</td>\n      <td>17909.0</td>\n    </tr>\n    <tr>\n      <th>5</th>\n      <td>200005</td>\n      <td>0</td>\n      <td>32.0</td>\n      <td>Company Invited</td>\n      <td>1</td>\n      <td>8.0</td>\n      <td>Salaried</td>\n      <td>Male</td>\n      <td>3</td>\n      <td>3.0</td>\n      <td>Basic</td>\n      <td>3.0</td>\n      <td>Single</td>\n      <td>1.0</td>\n      <td>0</td>\n      <td>5</td>\n      <td>1</td>\n      <td>1.0</td>\n      <td>Executive</td>\n      <td>18068.0</td>\n    </tr>\n  </tbody>\n</table>\n</div>"
     },
     "execution_count": 11,
     "metadata": {},
     "output_type": "execute_result"
    }
   ],
   "source": [
    "# Removing all null values from dataset\n",
    "\n",
    "df.dropna(axis=0, how='any').head()                   # use parameter inplace=True for permanent change"
   ],
   "metadata": {
    "collapsed": false,
    "pycharm": {
     "name": "#%%\n"
    }
   }
  },
  {
   "cell_type": "markdown",
   "source": [],
   "metadata": {
    "collapsed": false,
    "pycharm": {
     "name": "#%% md\n"
    }
   }
  },
  {
   "cell_type": "markdown",
   "source": [
    " - The above dataset has not even a single null value now but it came at the cost of **losing information**.\n",
    " - We lost 760 rows even if in whole row only 1 value was NaN."
   ],
   "metadata": {
    "collapsed": false,
    "pycharm": {
     "name": "#%% md\n"
    }
   }
  },
  {
   "cell_type": "markdown",
   "source": [],
   "metadata": {
    "collapsed": false,
    "pycharm": {
     "name": "#%% md\n"
    }
   }
  },
  {
   "cell_type": "markdown",
   "source": [
    "> ## Method 2 :- Random Filling"
   ],
   "metadata": {
    "collapsed": false,
    "pycharm": {
     "name": "#%% md\n"
    }
   }
  },
  {
   "cell_type": "markdown",
   "source": [
    "- Random filling is an interesting technique which allows us to fill our NaN values with ANY random value (we have categorized).\n",
    "- We can use random library here which allows us to fill random integer & float of decided range OR we can also pick a random value from the series which missing value belongs to, to replace missing value"
   ],
   "metadata": {
    "collapsed": false,
    "pycharm": {
     "name": "#%% md\n"
    }
   }
  },
  {
   "cell_type": "markdown",
   "source": [],
   "metadata": {
    "collapsed": false,
    "pycharm": {
     "name": "#%% md\n"
    }
   }
  },
  {
   "cell_type": "code",
   "execution_count": 12,
   "outputs": [
    {
     "data": {
      "text/plain": "    CustomerID  ProdTaken  Age    TypeofContact  CityTier  DurationOfPitch  \\\n4       200004          0  NaN     Self Enquiry         1              8.0   \n11      200011          0  NaN     Self Enquiry         1             21.0   \n19      200019          0  NaN     Self Enquiry         1              8.0   \n20      200020          0  NaN  Company Invited         1             17.0   \n21      200021          1  NaN     Self Enquiry         3             15.0   \n\n        Occupation  Gender  NumberOfPersonVisiting  NumberOfFollowups  \\\n4   Small Business    Male                       2                3.0   \n11        Salaried  Female                       2                4.0   \n19        Salaried    Male                       2                3.0   \n20        Salaried  Female                       3                2.0   \n21        Salaried    Male                       2                4.0   \n\n   ProductPitched  PreferredPropertyStar MaritalStatus  NumberOfTrips  \\\n4           Basic                    4.0      Divorced            1.0   \n11         Deluxe                    3.0        Single            1.0   \n19          Basic                    3.0        Single            6.0   \n20         Deluxe                    3.0       Married            1.0   \n21         Deluxe                    5.0        Single            1.0   \n\n    Passport  PitchSatisfactionScore  OwnCar  NumberOfChildrenVisiting  \\\n4          0                       5       1                       0.0   \n11         1                       3       0                       0.0   \n19         1                       4       0                       1.0   \n20         0                       3       1                       2.0   \n21         0                       2       0                       0.0   \n\n   Designation  MonthlyIncome  \n4    Executive        18468.0  \n11     Manager            NaN  \n19   Executive            NaN  \n20     Manager            NaN  \n21     Manager        18407.0  ",
      "text/html": "<div>\n<style scoped>\n    .dataframe tbody tr th:only-of-type {\n        vertical-align: middle;\n    }\n\n    .dataframe tbody tr th {\n        vertical-align: top;\n    }\n\n    .dataframe thead th {\n        text-align: right;\n    }\n</style>\n<table border=\"1\" class=\"dataframe\">\n  <thead>\n    <tr style=\"text-align: right;\">\n      <th></th>\n      <th>CustomerID</th>\n      <th>ProdTaken</th>\n      <th>Age</th>\n      <th>TypeofContact</th>\n      <th>CityTier</th>\n      <th>DurationOfPitch</th>\n      <th>Occupation</th>\n      <th>Gender</th>\n      <th>NumberOfPersonVisiting</th>\n      <th>NumberOfFollowups</th>\n      <th>ProductPitched</th>\n      <th>PreferredPropertyStar</th>\n      <th>MaritalStatus</th>\n      <th>NumberOfTrips</th>\n      <th>Passport</th>\n      <th>PitchSatisfactionScore</th>\n      <th>OwnCar</th>\n      <th>NumberOfChildrenVisiting</th>\n      <th>Designation</th>\n      <th>MonthlyIncome</th>\n    </tr>\n  </thead>\n  <tbody>\n    <tr>\n      <th>4</th>\n      <td>200004</td>\n      <td>0</td>\n      <td>NaN</td>\n      <td>Self Enquiry</td>\n      <td>1</td>\n      <td>8.0</td>\n      <td>Small Business</td>\n      <td>Male</td>\n      <td>2</td>\n      <td>3.0</td>\n      <td>Basic</td>\n      <td>4.0</td>\n      <td>Divorced</td>\n      <td>1.0</td>\n      <td>0</td>\n      <td>5</td>\n      <td>1</td>\n      <td>0.0</td>\n      <td>Executive</td>\n      <td>18468.0</td>\n    </tr>\n    <tr>\n      <th>11</th>\n      <td>200011</td>\n      <td>0</td>\n      <td>NaN</td>\n      <td>Self Enquiry</td>\n      <td>1</td>\n      <td>21.0</td>\n      <td>Salaried</td>\n      <td>Female</td>\n      <td>2</td>\n      <td>4.0</td>\n      <td>Deluxe</td>\n      <td>3.0</td>\n      <td>Single</td>\n      <td>1.0</td>\n      <td>1</td>\n      <td>3</td>\n      <td>0</td>\n      <td>0.0</td>\n      <td>Manager</td>\n      <td>NaN</td>\n    </tr>\n    <tr>\n      <th>19</th>\n      <td>200019</td>\n      <td>0</td>\n      <td>NaN</td>\n      <td>Self Enquiry</td>\n      <td>1</td>\n      <td>8.0</td>\n      <td>Salaried</td>\n      <td>Male</td>\n      <td>2</td>\n      <td>3.0</td>\n      <td>Basic</td>\n      <td>3.0</td>\n      <td>Single</td>\n      <td>6.0</td>\n      <td>1</td>\n      <td>4</td>\n      <td>0</td>\n      <td>1.0</td>\n      <td>Executive</td>\n      <td>NaN</td>\n    </tr>\n    <tr>\n      <th>20</th>\n      <td>200020</td>\n      <td>0</td>\n      <td>NaN</td>\n      <td>Company Invited</td>\n      <td>1</td>\n      <td>17.0</td>\n      <td>Salaried</td>\n      <td>Female</td>\n      <td>3</td>\n      <td>2.0</td>\n      <td>Deluxe</td>\n      <td>3.0</td>\n      <td>Married</td>\n      <td>1.0</td>\n      <td>0</td>\n      <td>3</td>\n      <td>1</td>\n      <td>2.0</td>\n      <td>Manager</td>\n      <td>NaN</td>\n    </tr>\n    <tr>\n      <th>21</th>\n      <td>200021</td>\n      <td>1</td>\n      <td>NaN</td>\n      <td>Self Enquiry</td>\n      <td>3</td>\n      <td>15.0</td>\n      <td>Salaried</td>\n      <td>Male</td>\n      <td>2</td>\n      <td>4.0</td>\n      <td>Deluxe</td>\n      <td>5.0</td>\n      <td>Single</td>\n      <td>1.0</td>\n      <td>0</td>\n      <td>2</td>\n      <td>0</td>\n      <td>0.0</td>\n      <td>Manager</td>\n      <td>18407.0</td>\n    </tr>\n  </tbody>\n</table>\n</div>"
     },
     "execution_count": 12,
     "metadata": {},
     "output_type": "execute_result"
    }
   ],
   "source": [
    "# Checking for missing values first\n",
    "\n",
    "df[df.isnull().any(axis=1)].head()"
   ],
   "metadata": {
    "collapsed": false,
    "pycharm": {
     "name": "#%%\n"
    }
   }
  },
  {
   "cell_type": "markdown",
   "source": [],
   "metadata": {
    "collapsed": false,
    "pycharm": {
     "name": "#%% md\n"
    }
   }
  },
  {
   "cell_type": "code",
   "execution_count": 13,
   "outputs": [],
   "source": [
    "# In above dataframe we can see NaN values in Age column. Let's fix it first\n",
    "\n",
    "df['Age'].fillna(value=random.choice(df[df['Age'] != np.nan]['Age']), inplace =True)"
   ],
   "metadata": {
    "collapsed": false,
    "pycharm": {
     "name": "#%%\n"
    }
   }
  },
  {
   "cell_type": "code",
   "execution_count": 14,
   "outputs": [
    {
     "data": {
      "text/plain": "0"
     },
     "execution_count": 14,
     "metadata": {},
     "output_type": "execute_result"
    }
   ],
   "source": [
    "# Checking if Age column is left with any null value now\n",
    "\n",
    "df['Age'].isnull().sum()"
   ],
   "metadata": {
    "collapsed": false,
    "pycharm": {
     "name": "#%%\n"
    }
   }
  },
  {
   "cell_type": "code",
   "execution_count": 15,
   "outputs": [
    {
     "data": {
      "text/plain": "0    41.0\n1    49.0\n2    37.0\n3    33.0\n4    31.0\nName: Age, dtype: float64"
     },
     "execution_count": 15,
     "metadata": {},
     "output_type": "execute_result"
    }
   ],
   "source": [
    "# Checking what kind of values took place in Age NaN values\n",
    "\n",
    "df['Age'].head()"
   ],
   "metadata": {
    "collapsed": false,
    "pycharm": {
     "name": "#%%\n"
    }
   }
  },
  {
   "cell_type": "markdown",
   "source": [],
   "metadata": {
    "collapsed": false,
    "pycharm": {
     "name": "#%% md\n"
    }
   }
  },
  {
   "cell_type": "markdown",
   "source": [
    "> We can see 4th row was NaN earlier and now filled with random value of 61 from Age series."
   ],
   "metadata": {
    "collapsed": false,
    "pycharm": {
     "name": "#%% md\n"
    }
   }
  },
  {
   "cell_type": "code",
   "execution_count": 16,
   "outputs": [],
   "source": [
    "# Performing similar strategy over all columns\n",
    "\n",
    "for i in df.columns:\n",
    "    df[i].fillna(value=random.choice(df[df[i] != np.nan][i]), inplace =True)"
   ],
   "metadata": {
    "collapsed": false,
    "pycharm": {
     "name": "#%%\n"
    }
   }
  },
  {
   "cell_type": "code",
   "execution_count": 17,
   "outputs": [
    {
     "data": {
      "text/plain": "CustomerID       0\nProdTaken        0\nAge              0\nTypeofContact    0\nCityTier         0\ndtype: int64"
     },
     "execution_count": 17,
     "metadata": {},
     "output_type": "execute_result"
    }
   ],
   "source": [
    "df.isnull().sum().head()"
   ],
   "metadata": {
    "collapsed": false,
    "pycharm": {
     "name": "#%%\n"
    }
   }
  },
  {
   "cell_type": "markdown",
   "source": [],
   "metadata": {
    "collapsed": false,
    "pycharm": {
     "name": "#%% md\n"
    }
   }
  },
  {
   "cell_type": "markdown",
   "source": [
    "> ***Not even a single column is left with Missing Value now. All are replaced by random values from their own series.***"
   ],
   "metadata": {
    "collapsed": false,
    "pycharm": {
     "name": "#%% md\n"
    }
   }
  },
  {
   "cell_type": "code",
   "execution_count": 18,
   "outputs": [],
   "source": [
    "# Getting our previous data back for next methods\n",
    "\n",
    "df = df_orig"
   ],
   "metadata": {
    "collapsed": false,
    "pycharm": {
     "name": "#%%\n"
    }
   }
  },
  {
   "cell_type": "markdown",
   "source": [],
   "metadata": {
    "collapsed": false,
    "pycharm": {
     "name": "#%% md\n"
    }
   }
  },
  {
   "cell_type": "markdown",
   "source": [
    "> #### Observation :-\n",
    "> - Random filling has filled all NaN values with the random value within the series those NaN values belong to.\n",
    "> - Eg. Age column had NaN values which got filled by any random value from Age column only"
   ],
   "metadata": {
    "collapsed": false,
    "pycharm": {
     "name": "#%% md\n"
    }
   }
  },
  {
   "cell_type": "markdown",
   "source": [],
   "metadata": {
    "collapsed": false,
    "pycharm": {
     "name": "#%% md\n"
    }
   }
  },
  {
   "cell_type": "markdown",
   "source": [
    "> ## Method 3 :- Forward Filling"
   ],
   "metadata": {
    "collapsed": false,
    "pycharm": {
     "name": "#%% md\n"
    }
   }
  },
  {
   "cell_type": "markdown",
   "source": [
    "- There are two ways of doing this kind of filling.\n",
    "    - Either used fillna function with method parameter `df.fillna(method=ffill)`\n",
    "    - OR use ffill() function\n",
    "- `df.ffill()` function is used to for forward filling and it propagates last valid observation forward."
   ],
   "metadata": {
    "collapsed": false,
    "pycharm": {
     "name": "#%% md\n"
    }
   }
  },
  {
   "cell_type": "markdown",
   "source": [
    "- When ffill() is applied across the index then any missing value is filled based on the corresponding value in the previous row."
   ],
   "metadata": {
    "collapsed": false,
    "pycharm": {
     "name": "#%% md\n"
    }
   }
  },
  {
   "cell_type": "code",
   "execution_count": 19,
   "outputs": [
    {
     "data": {
      "text/plain": "    CustomerID  ProdTaken  Age    TypeofContact  CityTier  DurationOfPitch  \\\n4       200004          0  NaN     Self Enquiry         1              8.0   \n11      200011          0  NaN     Self Enquiry         1             21.0   \n19      200019          0  NaN     Self Enquiry         1              8.0   \n20      200020          0  NaN  Company Invited         1             17.0   \n21      200021          1  NaN     Self Enquiry         3             15.0   \n\n        Occupation  Gender  NumberOfPersonVisiting  NumberOfFollowups  \\\n4   Small Business    Male                       2                3.0   \n11        Salaried  Female                       2                4.0   \n19        Salaried    Male                       2                3.0   \n20        Salaried  Female                       3                2.0   \n21        Salaried    Male                       2                4.0   \n\n   ProductPitched  PreferredPropertyStar MaritalStatus  NumberOfTrips  \\\n4           Basic                    4.0      Divorced            1.0   \n11         Deluxe                    3.0        Single            1.0   \n19          Basic                    3.0        Single            6.0   \n20         Deluxe                    3.0       Married            1.0   \n21         Deluxe                    5.0        Single            1.0   \n\n    Passport  PitchSatisfactionScore  OwnCar  NumberOfChildrenVisiting  \\\n4          0                       5       1                       0.0   \n11         1                       3       0                       0.0   \n19         1                       4       0                       1.0   \n20         0                       3       1                       2.0   \n21         0                       2       0                       0.0   \n\n   Designation  MonthlyIncome  \n4    Executive        18468.0  \n11     Manager            NaN  \n19   Executive            NaN  \n20     Manager            NaN  \n21     Manager        18407.0  ",
      "text/html": "<div>\n<style scoped>\n    .dataframe tbody tr th:only-of-type {\n        vertical-align: middle;\n    }\n\n    .dataframe tbody tr th {\n        vertical-align: top;\n    }\n\n    .dataframe thead th {\n        text-align: right;\n    }\n</style>\n<table border=\"1\" class=\"dataframe\">\n  <thead>\n    <tr style=\"text-align: right;\">\n      <th></th>\n      <th>CustomerID</th>\n      <th>ProdTaken</th>\n      <th>Age</th>\n      <th>TypeofContact</th>\n      <th>CityTier</th>\n      <th>DurationOfPitch</th>\n      <th>Occupation</th>\n      <th>Gender</th>\n      <th>NumberOfPersonVisiting</th>\n      <th>NumberOfFollowups</th>\n      <th>ProductPitched</th>\n      <th>PreferredPropertyStar</th>\n      <th>MaritalStatus</th>\n      <th>NumberOfTrips</th>\n      <th>Passport</th>\n      <th>PitchSatisfactionScore</th>\n      <th>OwnCar</th>\n      <th>NumberOfChildrenVisiting</th>\n      <th>Designation</th>\n      <th>MonthlyIncome</th>\n    </tr>\n  </thead>\n  <tbody>\n    <tr>\n      <th>4</th>\n      <td>200004</td>\n      <td>0</td>\n      <td>NaN</td>\n      <td>Self Enquiry</td>\n      <td>1</td>\n      <td>8.0</td>\n      <td>Small Business</td>\n      <td>Male</td>\n      <td>2</td>\n      <td>3.0</td>\n      <td>Basic</td>\n      <td>4.0</td>\n      <td>Divorced</td>\n      <td>1.0</td>\n      <td>0</td>\n      <td>5</td>\n      <td>1</td>\n      <td>0.0</td>\n      <td>Executive</td>\n      <td>18468.0</td>\n    </tr>\n    <tr>\n      <th>11</th>\n      <td>200011</td>\n      <td>0</td>\n      <td>NaN</td>\n      <td>Self Enquiry</td>\n      <td>1</td>\n      <td>21.0</td>\n      <td>Salaried</td>\n      <td>Female</td>\n      <td>2</td>\n      <td>4.0</td>\n      <td>Deluxe</td>\n      <td>3.0</td>\n      <td>Single</td>\n      <td>1.0</td>\n      <td>1</td>\n      <td>3</td>\n      <td>0</td>\n      <td>0.0</td>\n      <td>Manager</td>\n      <td>NaN</td>\n    </tr>\n    <tr>\n      <th>19</th>\n      <td>200019</td>\n      <td>0</td>\n      <td>NaN</td>\n      <td>Self Enquiry</td>\n      <td>1</td>\n      <td>8.0</td>\n      <td>Salaried</td>\n      <td>Male</td>\n      <td>2</td>\n      <td>3.0</td>\n      <td>Basic</td>\n      <td>3.0</td>\n      <td>Single</td>\n      <td>6.0</td>\n      <td>1</td>\n      <td>4</td>\n      <td>0</td>\n      <td>1.0</td>\n      <td>Executive</td>\n      <td>NaN</td>\n    </tr>\n    <tr>\n      <th>20</th>\n      <td>200020</td>\n      <td>0</td>\n      <td>NaN</td>\n      <td>Company Invited</td>\n      <td>1</td>\n      <td>17.0</td>\n      <td>Salaried</td>\n      <td>Female</td>\n      <td>3</td>\n      <td>2.0</td>\n      <td>Deluxe</td>\n      <td>3.0</td>\n      <td>Married</td>\n      <td>1.0</td>\n      <td>0</td>\n      <td>3</td>\n      <td>1</td>\n      <td>2.0</td>\n      <td>Manager</td>\n      <td>NaN</td>\n    </tr>\n    <tr>\n      <th>21</th>\n      <td>200021</td>\n      <td>1</td>\n      <td>NaN</td>\n      <td>Self Enquiry</td>\n      <td>3</td>\n      <td>15.0</td>\n      <td>Salaried</td>\n      <td>Male</td>\n      <td>2</td>\n      <td>4.0</td>\n      <td>Deluxe</td>\n      <td>5.0</td>\n      <td>Single</td>\n      <td>1.0</td>\n      <td>0</td>\n      <td>2</td>\n      <td>0</td>\n      <td>0.0</td>\n      <td>Manager</td>\n      <td>18407.0</td>\n    </tr>\n  </tbody>\n</table>\n</div>"
     },
     "execution_count": 19,
     "metadata": {},
     "output_type": "execute_result"
    }
   ],
   "source": [
    "# Finding missing values\n",
    "\n",
    "df[df.isnull().any(axis=1)].head()"
   ],
   "metadata": {
    "collapsed": false,
    "pycharm": {
     "name": "#%%\n"
    }
   }
  },
  {
   "cell_type": "markdown",
   "source": [],
   "metadata": {
    "collapsed": false,
    "pycharm": {
     "name": "#%% md\n"
    }
   }
  },
  {
   "cell_type": "markdown",
   "source": [
    "> In above dataset we can see Age column has missing values in 4,11 and 19th row"
   ],
   "metadata": {
    "collapsed": false,
    "pycharm": {
     "name": "#%% md\n"
    }
   }
  },
  {
   "cell_type": "code",
   "execution_count": 20,
   "outputs": [
    {
     "data": {
      "text/plain": "4    NaN\n11   NaN\n19   NaN\nName: Age, dtype: float64"
     },
     "execution_count": 20,
     "metadata": {},
     "output_type": "execute_result"
    }
   ],
   "source": [
    "df['Age'].iloc[[4,11,19]]"
   ],
   "metadata": {
    "collapsed": false,
    "pycharm": {
     "name": "#%%\n"
    }
   }
  },
  {
   "cell_type": "code",
   "execution_count": 21,
   "outputs": [
    {
     "data": {
      "text/plain": "3     33.0\n4     33.0\n5     32.0\n6     59.0\n7     30.0\n8     38.0\n9     36.0\n10    35.0\n11    35.0\nName: Age, dtype: float64"
     },
     "execution_count": 21,
     "metadata": {},
     "output_type": "execute_result"
    }
   ],
   "source": [
    "# Forward filling Age column\n",
    "\n",
    "df['Age'].ffill(axis=0).iloc[3:12]"
   ],
   "metadata": {
    "collapsed": false,
    "pycharm": {
     "name": "#%%\n"
    }
   }
  },
  {
   "cell_type": "markdown",
   "source": [],
   "metadata": {
    "collapsed": false,
    "pycharm": {
     "name": "#%% md\n"
    }
   }
  },
  {
   "cell_type": "markdown",
   "source": [
    "> #### Observation :-\n",
    "> - We can see column no. 4 and 11 were NaN earlier and now they got filled by values in row upper than them.\n",
    "> - Row 4th took the value of 3rd.\n",
    "> - Row 11th took the value of 10th.\n",
    "> - If first row value was missing then Forward Filling won't help us. We need to use the concept of Backward Filling there."
   ],
   "metadata": {
    "collapsed": false,
    "pycharm": {
     "name": "#%% md\n"
    }
   }
  },
  {
   "cell_type": "markdown",
   "source": [],
   "metadata": {
    "collapsed": false,
    "pycharm": {
     "name": "#%% md\n"
    }
   }
  },
  {
   "cell_type": "markdown",
   "source": [
    "> ## Method 4 :- Backward Filling"
   ],
   "metadata": {
    "collapsed": false,
    "pycharm": {
     "name": "#%% md\n"
    }
   }
  },
  {
   "cell_type": "markdown",
   "source": [],
   "metadata": {
    "collapsed": false,
    "pycharm": {
     "name": "#%% md\n"
    }
   }
  },
  {
   "cell_type": "markdown",
   "source": [
    "- There are two ways of doing this kind of filling.\n",
    "    - Either used fillna function with method parameter `df.fillna(method=bfill)`\n",
    "    - OR use bfill() function\n",
    "- `df.bfill()` function is used to for backward filling. It will backward fill the NaN values that are present in the pandas dataframe.\n"
   ],
   "metadata": {
    "collapsed": false,
    "pycharm": {
     "name": "#%% md\n"
    }
   }
  },
  {
   "cell_type": "code",
   "execution_count": 22,
   "outputs": [
    {
     "data": {
      "text/plain": "    CustomerID  ProdTaken  Age    TypeofContact  CityTier  DurationOfPitch  \\\n4       200004          0  NaN     Self Enquiry         1              8.0   \n11      200011          0  NaN     Self Enquiry         1             21.0   \n19      200019          0  NaN     Self Enquiry         1              8.0   \n20      200020          0  NaN  Company Invited         1             17.0   \n21      200021          1  NaN     Self Enquiry         3             15.0   \n\n        Occupation  Gender  NumberOfPersonVisiting  NumberOfFollowups  \\\n4   Small Business    Male                       2                3.0   \n11        Salaried  Female                       2                4.0   \n19        Salaried    Male                       2                3.0   \n20        Salaried  Female                       3                2.0   \n21        Salaried    Male                       2                4.0   \n\n   ProductPitched  PreferredPropertyStar MaritalStatus  NumberOfTrips  \\\n4           Basic                    4.0      Divorced            1.0   \n11         Deluxe                    3.0        Single            1.0   \n19          Basic                    3.0        Single            6.0   \n20         Deluxe                    3.0       Married            1.0   \n21         Deluxe                    5.0        Single            1.0   \n\n    Passport  PitchSatisfactionScore  OwnCar  NumberOfChildrenVisiting  \\\n4          0                       5       1                       0.0   \n11         1                       3       0                       0.0   \n19         1                       4       0                       1.0   \n20         0                       3       1                       2.0   \n21         0                       2       0                       0.0   \n\n   Designation  MonthlyIncome  \n4    Executive        18468.0  \n11     Manager            NaN  \n19   Executive            NaN  \n20     Manager            NaN  \n21     Manager        18407.0  ",
      "text/html": "<div>\n<style scoped>\n    .dataframe tbody tr th:only-of-type {\n        vertical-align: middle;\n    }\n\n    .dataframe tbody tr th {\n        vertical-align: top;\n    }\n\n    .dataframe thead th {\n        text-align: right;\n    }\n</style>\n<table border=\"1\" class=\"dataframe\">\n  <thead>\n    <tr style=\"text-align: right;\">\n      <th></th>\n      <th>CustomerID</th>\n      <th>ProdTaken</th>\n      <th>Age</th>\n      <th>TypeofContact</th>\n      <th>CityTier</th>\n      <th>DurationOfPitch</th>\n      <th>Occupation</th>\n      <th>Gender</th>\n      <th>NumberOfPersonVisiting</th>\n      <th>NumberOfFollowups</th>\n      <th>ProductPitched</th>\n      <th>PreferredPropertyStar</th>\n      <th>MaritalStatus</th>\n      <th>NumberOfTrips</th>\n      <th>Passport</th>\n      <th>PitchSatisfactionScore</th>\n      <th>OwnCar</th>\n      <th>NumberOfChildrenVisiting</th>\n      <th>Designation</th>\n      <th>MonthlyIncome</th>\n    </tr>\n  </thead>\n  <tbody>\n    <tr>\n      <th>4</th>\n      <td>200004</td>\n      <td>0</td>\n      <td>NaN</td>\n      <td>Self Enquiry</td>\n      <td>1</td>\n      <td>8.0</td>\n      <td>Small Business</td>\n      <td>Male</td>\n      <td>2</td>\n      <td>3.0</td>\n      <td>Basic</td>\n      <td>4.0</td>\n      <td>Divorced</td>\n      <td>1.0</td>\n      <td>0</td>\n      <td>5</td>\n      <td>1</td>\n      <td>0.0</td>\n      <td>Executive</td>\n      <td>18468.0</td>\n    </tr>\n    <tr>\n      <th>11</th>\n      <td>200011</td>\n      <td>0</td>\n      <td>NaN</td>\n      <td>Self Enquiry</td>\n      <td>1</td>\n      <td>21.0</td>\n      <td>Salaried</td>\n      <td>Female</td>\n      <td>2</td>\n      <td>4.0</td>\n      <td>Deluxe</td>\n      <td>3.0</td>\n      <td>Single</td>\n      <td>1.0</td>\n      <td>1</td>\n      <td>3</td>\n      <td>0</td>\n      <td>0.0</td>\n      <td>Manager</td>\n      <td>NaN</td>\n    </tr>\n    <tr>\n      <th>19</th>\n      <td>200019</td>\n      <td>0</td>\n      <td>NaN</td>\n      <td>Self Enquiry</td>\n      <td>1</td>\n      <td>8.0</td>\n      <td>Salaried</td>\n      <td>Male</td>\n      <td>2</td>\n      <td>3.0</td>\n      <td>Basic</td>\n      <td>3.0</td>\n      <td>Single</td>\n      <td>6.0</td>\n      <td>1</td>\n      <td>4</td>\n      <td>0</td>\n      <td>1.0</td>\n      <td>Executive</td>\n      <td>NaN</td>\n    </tr>\n    <tr>\n      <th>20</th>\n      <td>200020</td>\n      <td>0</td>\n      <td>NaN</td>\n      <td>Company Invited</td>\n      <td>1</td>\n      <td>17.0</td>\n      <td>Salaried</td>\n      <td>Female</td>\n      <td>3</td>\n      <td>2.0</td>\n      <td>Deluxe</td>\n      <td>3.0</td>\n      <td>Married</td>\n      <td>1.0</td>\n      <td>0</td>\n      <td>3</td>\n      <td>1</td>\n      <td>2.0</td>\n      <td>Manager</td>\n      <td>NaN</td>\n    </tr>\n    <tr>\n      <th>21</th>\n      <td>200021</td>\n      <td>1</td>\n      <td>NaN</td>\n      <td>Self Enquiry</td>\n      <td>3</td>\n      <td>15.0</td>\n      <td>Salaried</td>\n      <td>Male</td>\n      <td>2</td>\n      <td>4.0</td>\n      <td>Deluxe</td>\n      <td>5.0</td>\n      <td>Single</td>\n      <td>1.0</td>\n      <td>0</td>\n      <td>2</td>\n      <td>0</td>\n      <td>0.0</td>\n      <td>Manager</td>\n      <td>18407.0</td>\n    </tr>\n  </tbody>\n</table>\n</div>"
     },
     "execution_count": 22,
     "metadata": {},
     "output_type": "execute_result"
    }
   ],
   "source": [
    "# Finding missing values\n",
    "\n",
    "df[df.isnull().any(axis=1)].head()"
   ],
   "metadata": {
    "collapsed": false,
    "pycharm": {
     "name": "#%%\n"
    }
   }
  },
  {
   "cell_type": "markdown",
   "source": [],
   "metadata": {
    "collapsed": false,
    "pycharm": {
     "name": "#%% md\n"
    }
   }
  },
  {
   "cell_type": "markdown",
   "source": [
    "> In above dataset we can see Age column has missing values in 4,11 and 19th row"
   ],
   "metadata": {
    "collapsed": false,
    "pycharm": {
     "name": "#%% md\n"
    }
   }
  },
  {
   "cell_type": "code",
   "execution_count": 23,
   "outputs": [
    {
     "data": {
      "text/plain": "4    NaN\n11   NaN\n19   NaN\nName: Age, dtype: float64"
     },
     "execution_count": 23,
     "metadata": {},
     "output_type": "execute_result"
    }
   ],
   "source": [
    "df['Age'].iloc[[4,11,19]]"
   ],
   "metadata": {
    "collapsed": false,
    "pycharm": {
     "name": "#%%\n"
    }
   }
  },
  {
   "cell_type": "markdown",
   "source": [],
   "metadata": {
    "collapsed": false,
    "pycharm": {
     "name": "#%% md\n"
    }
   }
  },
  {
   "cell_type": "code",
   "execution_count": 24,
   "outputs": [
    {
     "data": {
      "text/plain": "4     32.0\n5     32.0\n6     59.0\n7     30.0\n8     38.0\n9     36.0\n10    35.0\n11    31.0\n12    31.0\nName: Age, dtype: float64"
     },
     "execution_count": 24,
     "metadata": {},
     "output_type": "execute_result"
    }
   ],
   "source": [
    "# Backward filling Age column\n",
    "\n",
    "df['Age'].bfill(axis=0).iloc[4:13]"
   ],
   "metadata": {
    "collapsed": false,
    "pycharm": {
     "name": "#%%\n"
    }
   }
  },
  {
   "cell_type": "markdown",
   "source": [],
   "metadata": {
    "collapsed": false,
    "pycharm": {
     "name": "#%% md\n"
    }
   }
  },
  {
   "cell_type": "markdown",
   "source": [
    "> #### Observation :-\n",
    "> - We can see column no. 4 and 11 were NaN earlier and now they got filled by values in row lower than them.\n",
    "> - Row 4th took the value of 5th.\n",
    "> - Row 11th took the value of 12th.\n",
    "> - If last row value was missing then Backward Filling won't help us. We need to use the concept of Foward Filling there."
   ],
   "metadata": {
    "collapsed": false,
    "pycharm": {
     "name": "#%% md\n"
    }
   }
  },
  {
   "cell_type": "markdown",
   "source": [],
   "metadata": {
    "collapsed": false,
    "pycharm": {
     "name": "#%% md\n"
    }
   }
  },
  {
   "cell_type": "markdown",
   "source": [
    "> ## Method 5 :- Stats Approach"
   ],
   "metadata": {
    "collapsed": false,
    "pycharm": {
     "name": "#%% md\n"
    }
   }
  },
  {
   "cell_type": "markdown",
   "source": [
    "- Stats approach is an effective way of dealing with missing values.\n",
    "- We have 3 options to replace the missing values with :-\n",
    "    - **Mean** is a good way of replacing but it is sensitive to outliers that's why it's not preferable.\n",
    "    - **Median** is perfect if you are working with numerical variables.\n",
    "    - **Mode** is the best option if we are working with categorical variables."
   ],
   "metadata": {
    "collapsed": false,
    "pycharm": {
     "name": "#%% md\n"
    }
   }
  },
  {
   "cell_type": "markdown",
   "source": [],
   "metadata": {
    "collapsed": false,
    "pycharm": {
     "name": "#%% md\n"
    }
   }
  },
  {
   "cell_type": "markdown",
   "source": [
    "> ### Mean"
   ],
   "metadata": {
    "collapsed": false,
    "pycharm": {
     "name": "#%% md\n"
    }
   }
  },
  {
   "cell_type": "code",
   "execution_count": 25,
   "outputs": [
    {
     "data": {
      "text/plain": "    CustomerID  ProdTaken  Age    TypeofContact  CityTier  DurationOfPitch  \\\n4       200004          0  NaN     Self Enquiry         1              8.0   \n11      200011          0  NaN     Self Enquiry         1             21.0   \n19      200019          0  NaN     Self Enquiry         1              8.0   \n20      200020          0  NaN  Company Invited         1             17.0   \n21      200021          1  NaN     Self Enquiry         3             15.0   \n\n        Occupation  Gender  NumberOfPersonVisiting  NumberOfFollowups  \\\n4   Small Business    Male                       2                3.0   \n11        Salaried  Female                       2                4.0   \n19        Salaried    Male                       2                3.0   \n20        Salaried  Female                       3                2.0   \n21        Salaried    Male                       2                4.0   \n\n   ProductPitched  PreferredPropertyStar MaritalStatus  NumberOfTrips  \\\n4           Basic                    4.0      Divorced            1.0   \n11         Deluxe                    3.0        Single            1.0   \n19          Basic                    3.0        Single            6.0   \n20         Deluxe                    3.0       Married            1.0   \n21         Deluxe                    5.0        Single            1.0   \n\n    Passport  PitchSatisfactionScore  OwnCar  NumberOfChildrenVisiting  \\\n4          0                       5       1                       0.0   \n11         1                       3       0                       0.0   \n19         1                       4       0                       1.0   \n20         0                       3       1                       2.0   \n21         0                       2       0                       0.0   \n\n   Designation  MonthlyIncome  \n4    Executive        18468.0  \n11     Manager            NaN  \n19   Executive            NaN  \n20     Manager            NaN  \n21     Manager        18407.0  ",
      "text/html": "<div>\n<style scoped>\n    .dataframe tbody tr th:only-of-type {\n        vertical-align: middle;\n    }\n\n    .dataframe tbody tr th {\n        vertical-align: top;\n    }\n\n    .dataframe thead th {\n        text-align: right;\n    }\n</style>\n<table border=\"1\" class=\"dataframe\">\n  <thead>\n    <tr style=\"text-align: right;\">\n      <th></th>\n      <th>CustomerID</th>\n      <th>ProdTaken</th>\n      <th>Age</th>\n      <th>TypeofContact</th>\n      <th>CityTier</th>\n      <th>DurationOfPitch</th>\n      <th>Occupation</th>\n      <th>Gender</th>\n      <th>NumberOfPersonVisiting</th>\n      <th>NumberOfFollowups</th>\n      <th>ProductPitched</th>\n      <th>PreferredPropertyStar</th>\n      <th>MaritalStatus</th>\n      <th>NumberOfTrips</th>\n      <th>Passport</th>\n      <th>PitchSatisfactionScore</th>\n      <th>OwnCar</th>\n      <th>NumberOfChildrenVisiting</th>\n      <th>Designation</th>\n      <th>MonthlyIncome</th>\n    </tr>\n  </thead>\n  <tbody>\n    <tr>\n      <th>4</th>\n      <td>200004</td>\n      <td>0</td>\n      <td>NaN</td>\n      <td>Self Enquiry</td>\n      <td>1</td>\n      <td>8.0</td>\n      <td>Small Business</td>\n      <td>Male</td>\n      <td>2</td>\n      <td>3.0</td>\n      <td>Basic</td>\n      <td>4.0</td>\n      <td>Divorced</td>\n      <td>1.0</td>\n      <td>0</td>\n      <td>5</td>\n      <td>1</td>\n      <td>0.0</td>\n      <td>Executive</td>\n      <td>18468.0</td>\n    </tr>\n    <tr>\n      <th>11</th>\n      <td>200011</td>\n      <td>0</td>\n      <td>NaN</td>\n      <td>Self Enquiry</td>\n      <td>1</td>\n      <td>21.0</td>\n      <td>Salaried</td>\n      <td>Female</td>\n      <td>2</td>\n      <td>4.0</td>\n      <td>Deluxe</td>\n      <td>3.0</td>\n      <td>Single</td>\n      <td>1.0</td>\n      <td>1</td>\n      <td>3</td>\n      <td>0</td>\n      <td>0.0</td>\n      <td>Manager</td>\n      <td>NaN</td>\n    </tr>\n    <tr>\n      <th>19</th>\n      <td>200019</td>\n      <td>0</td>\n      <td>NaN</td>\n      <td>Self Enquiry</td>\n      <td>1</td>\n      <td>8.0</td>\n      <td>Salaried</td>\n      <td>Male</td>\n      <td>2</td>\n      <td>3.0</td>\n      <td>Basic</td>\n      <td>3.0</td>\n      <td>Single</td>\n      <td>6.0</td>\n      <td>1</td>\n      <td>4</td>\n      <td>0</td>\n      <td>1.0</td>\n      <td>Executive</td>\n      <td>NaN</td>\n    </tr>\n    <tr>\n      <th>20</th>\n      <td>200020</td>\n      <td>0</td>\n      <td>NaN</td>\n      <td>Company Invited</td>\n      <td>1</td>\n      <td>17.0</td>\n      <td>Salaried</td>\n      <td>Female</td>\n      <td>3</td>\n      <td>2.0</td>\n      <td>Deluxe</td>\n      <td>3.0</td>\n      <td>Married</td>\n      <td>1.0</td>\n      <td>0</td>\n      <td>3</td>\n      <td>1</td>\n      <td>2.0</td>\n      <td>Manager</td>\n      <td>NaN</td>\n    </tr>\n    <tr>\n      <th>21</th>\n      <td>200021</td>\n      <td>1</td>\n      <td>NaN</td>\n      <td>Self Enquiry</td>\n      <td>3</td>\n      <td>15.0</td>\n      <td>Salaried</td>\n      <td>Male</td>\n      <td>2</td>\n      <td>4.0</td>\n      <td>Deluxe</td>\n      <td>5.0</td>\n      <td>Single</td>\n      <td>1.0</td>\n      <td>0</td>\n      <td>2</td>\n      <td>0</td>\n      <td>0.0</td>\n      <td>Manager</td>\n      <td>18407.0</td>\n    </tr>\n  </tbody>\n</table>\n</div>"
     },
     "execution_count": 25,
     "metadata": {},
     "output_type": "execute_result"
    }
   ],
   "source": [
    "# Finding null values\n",
    "\n",
    "df[df.isnull().any(axis=1)].head()"
   ],
   "metadata": {
    "collapsed": false,
    "pycharm": {
     "name": "#%%\n"
    }
   }
  },
  {
   "cell_type": "markdown",
   "source": [],
   "metadata": {
    "collapsed": false,
    "pycharm": {
     "name": "#%% md\n"
    }
   }
  },
  {
   "cell_type": "markdown",
   "source": [
    "> Let's pick Monthly Income column (last one) to fill NaN with Mean value"
   ],
   "metadata": {
    "collapsed": false,
    "pycharm": {
     "name": "#%% md\n"
    }
   }
  },
  {
   "cell_type": "code",
   "execution_count": 26,
   "outputs": [
    {
     "data": {
      "text/plain": "1     20130.0\n11        NaN\n19        NaN\n20        NaN\n21    18407.0\nName: MonthlyIncome, dtype: float64"
     },
     "execution_count": 26,
     "metadata": {},
     "output_type": "execute_result"
    }
   ],
   "source": [
    "# Picking some rows for reference\n",
    "\n",
    "df['MonthlyIncome'].iloc[[1,11,19,20,21]]"
   ],
   "metadata": {
    "collapsed": false,
    "pycharm": {
     "name": "#%%\n"
    }
   }
  },
  {
   "cell_type": "markdown",
   "source": [],
   "metadata": {
    "collapsed": false,
    "pycharm": {
     "name": "#%% md\n"
    }
   }
  },
  {
   "cell_type": "code",
   "execution_count": 27,
   "outputs": [
    {
     "data": {
      "text/plain": "23619.85349087003"
     },
     "execution_count": 27,
     "metadata": {},
     "output_type": "execute_result"
    }
   ],
   "source": [
    "# Finding mean value of Monthly Income column\n",
    "\n",
    "df['MonthlyIncome'].mean()"
   ],
   "metadata": {
    "collapsed": false,
    "pycharm": {
     "name": "#%%\n"
    }
   }
  },
  {
   "cell_type": "markdown",
   "source": [],
   "metadata": {
    "collapsed": false,
    "pycharm": {
     "name": "#%% md\n"
    }
   }
  },
  {
   "cell_type": "code",
   "execution_count": 28,
   "outputs": [],
   "source": [
    "# Assigning mean value to a variable\n",
    "\n",
    "Mean = df['MonthlyIncome'].mean()"
   ],
   "metadata": {
    "collapsed": false,
    "pycharm": {
     "name": "#%%\n"
    }
   }
  },
  {
   "cell_type": "code",
   "execution_count": 29,
   "outputs": [
    {
     "data": {
      "text/plain": "1     20130.000000\n11    23619.853491\n19    23619.853491\n20    23619.853491\n21    18407.000000\nName: MonthlyIncome, dtype: float64"
     },
     "execution_count": 29,
     "metadata": {},
     "output_type": "execute_result"
    }
   ],
   "source": [
    "# Using fillna() function to fill NaN values with Mean value\n",
    "\n",
    "df['MonthlyIncome'].fillna(value=Mean).iloc[[1,11,19,20,21]]"
   ],
   "metadata": {
    "collapsed": false,
    "pycharm": {
     "name": "#%%\n"
    }
   }
  },
  {
   "cell_type": "markdown",
   "source": [],
   "metadata": {
    "collapsed": false,
    "pycharm": {
     "name": "#%% md\n"
    }
   }
  },
  {
   "cell_type": "markdown",
   "source": [
    "> #### Observation :-\n",
    "> - NaN values has been filled with mean value of Monthly Income column.\n",
    "> - Not to forget, mean is sensitive to outliers so figure may not be accurate to use for optimum result."
   ],
   "metadata": {
    "collapsed": false,
    "pycharm": {
     "name": "#%% md\n"
    }
   }
  },
  {
   "cell_type": "markdown",
   "source": [],
   "metadata": {
    "collapsed": false,
    "pycharm": {
     "name": "#%% md\n"
    }
   }
  },
  {
   "cell_type": "markdown",
   "source": [
    "> ### Median"
   ],
   "metadata": {
    "collapsed": false,
    "pycharm": {
     "name": "#%% md\n"
    }
   }
  },
  {
   "cell_type": "code",
   "execution_count": 30,
   "outputs": [
    {
     "data": {
      "text/plain": "1     20130.0\n11        NaN\n19        NaN\n20        NaN\n21    18407.0\nName: MonthlyIncome, dtype: float64"
     },
     "execution_count": 30,
     "metadata": {},
     "output_type": "execute_result"
    }
   ],
   "source": [
    "# Picking some rows from 'Monthly Income' column for reference\n",
    "\n",
    "df['MonthlyIncome'].iloc[[1,11,19,20,21]]"
   ],
   "metadata": {
    "collapsed": false,
    "pycharm": {
     "name": "#%%\n"
    }
   }
  },
  {
   "cell_type": "code",
   "execution_count": 31,
   "outputs": [
    {
     "data": {
      "text/plain": "22347.0"
     },
     "execution_count": 31,
     "metadata": {},
     "output_type": "execute_result"
    }
   ],
   "source": [
    "# Finding median value of Monthly Income column\n",
    "\n",
    "df['MonthlyIncome'].median()"
   ],
   "metadata": {
    "collapsed": false,
    "pycharm": {
     "name": "#%%\n"
    }
   }
  },
  {
   "cell_type": "code",
   "execution_count": 32,
   "outputs": [],
   "source": [
    "# Assigning median to a variable\n",
    "\n",
    "Median = df['MonthlyIncome'].median()"
   ],
   "metadata": {
    "collapsed": false,
    "pycharm": {
     "name": "#%%\n"
    }
   }
  },
  {
   "cell_type": "code",
   "execution_count": 33,
   "outputs": [
    {
     "data": {
      "text/plain": "1     20130.0\n11    22347.0\n19    22347.0\n20    22347.0\n21    18407.0\nName: MonthlyIncome, dtype: float64"
     },
     "execution_count": 33,
     "metadata": {},
     "output_type": "execute_result"
    }
   ],
   "source": [
    "# Using fillna() function to fill NaN values with Median value\n",
    "\n",
    "df['MonthlyIncome'].fillna(value=Median).iloc[[1,11,19,20,21]]"
   ],
   "metadata": {
    "collapsed": false,
    "pycharm": {
     "name": "#%%\n"
    }
   }
  },
  {
   "cell_type": "markdown",
   "source": [],
   "metadata": {
    "collapsed": false,
    "pycharm": {
     "name": "#%% md\n"
    }
   }
  },
  {
   "cell_type": "markdown",
   "source": [
    "> #### Observation :-\n",
    "> - NaN values has been filled with median value of Monthly Income column.\n",
    "> - We can see median value is lesser than mean value that means mean value is being pulled up by some outliers."
   ],
   "metadata": {
    "collapsed": false,
    "pycharm": {
     "name": "#%% md\n"
    }
   }
  },
  {
   "cell_type": "markdown",
   "source": [],
   "metadata": {
    "collapsed": false,
    "pycharm": {
     "name": "#%% md\n"
    }
   }
  },
  {
   "cell_type": "markdown",
   "source": [
    "> ### Mode"
   ],
   "metadata": {
    "collapsed": false,
    "pycharm": {
     "name": "#%% md\n"
    }
   }
  },
  {
   "cell_type": "markdown",
   "source": [
    "- For Mode we will use a categorical variable"
   ],
   "metadata": {
    "collapsed": false,
    "pycharm": {
     "name": "#%% md\n"
    }
   }
  },
  {
   "cell_type": "code",
   "execution_count": 34,
   "outputs": [
    {
     "data": {
      "text/plain": "     CustomerID  ProdTaken   Age TypeofContact  CityTier  DurationOfPitch  \\\n224      200224          0  31.0           NaN         1              NaN   \n571      200571          0  26.0           NaN         1              NaN   \n572      200572          0  29.0           NaN         1              NaN   \n576      200576          0  27.0           NaN         3              NaN   \n579      200579          0  34.0           NaN         1              NaN   \n\n         Occupation  Gender  NumberOfPersonVisiting  NumberOfFollowups  \\\n224  Small Business    Male                       2                5.0   \n571        Salaried  Female                       3                5.0   \n572  Small Business  Female                       3                3.0   \n576  Small Business    Male                       2                3.0   \n579  Small Business  Female                       2                4.0   \n\n    ProductPitched  PreferredPropertyStar MaritalStatus  NumberOfTrips  \\\n224         Deluxe                    3.0      Divorced            1.0   \n571          Basic                    3.0       Married            4.0   \n572         Deluxe                    3.0      Divorced            5.0   \n576         Deluxe                    3.0      Divorced            1.0   \n579          Basic                    5.0        Single            2.0   \n\n     Passport  PitchSatisfactionScore  OwnCar  NumberOfChildrenVisiting  \\\n224         0                       3       1                       0.0   \n571         0                       4       1                       2.0   \n572         0                       2       1                       0.0   \n576         0                       3       0                       1.0   \n579         0                       2       1                       1.0   \n\n    Designation  MonthlyIncome  \n224     Manager            NaN  \n571   Executive            NaN  \n572     Manager            NaN  \n576     Manager            NaN  \n579   Executive            NaN  ",
      "text/html": "<div>\n<style scoped>\n    .dataframe tbody tr th:only-of-type {\n        vertical-align: middle;\n    }\n\n    .dataframe tbody tr th {\n        vertical-align: top;\n    }\n\n    .dataframe thead th {\n        text-align: right;\n    }\n</style>\n<table border=\"1\" class=\"dataframe\">\n  <thead>\n    <tr style=\"text-align: right;\">\n      <th></th>\n      <th>CustomerID</th>\n      <th>ProdTaken</th>\n      <th>Age</th>\n      <th>TypeofContact</th>\n      <th>CityTier</th>\n      <th>DurationOfPitch</th>\n      <th>Occupation</th>\n      <th>Gender</th>\n      <th>NumberOfPersonVisiting</th>\n      <th>NumberOfFollowups</th>\n      <th>ProductPitched</th>\n      <th>PreferredPropertyStar</th>\n      <th>MaritalStatus</th>\n      <th>NumberOfTrips</th>\n      <th>Passport</th>\n      <th>PitchSatisfactionScore</th>\n      <th>OwnCar</th>\n      <th>NumberOfChildrenVisiting</th>\n      <th>Designation</th>\n      <th>MonthlyIncome</th>\n    </tr>\n  </thead>\n  <tbody>\n    <tr>\n      <th>224</th>\n      <td>200224</td>\n      <td>0</td>\n      <td>31.0</td>\n      <td>NaN</td>\n      <td>1</td>\n      <td>NaN</td>\n      <td>Small Business</td>\n      <td>Male</td>\n      <td>2</td>\n      <td>5.0</td>\n      <td>Deluxe</td>\n      <td>3.0</td>\n      <td>Divorced</td>\n      <td>1.0</td>\n      <td>0</td>\n      <td>3</td>\n      <td>1</td>\n      <td>0.0</td>\n      <td>Manager</td>\n      <td>NaN</td>\n    </tr>\n    <tr>\n      <th>571</th>\n      <td>200571</td>\n      <td>0</td>\n      <td>26.0</td>\n      <td>NaN</td>\n      <td>1</td>\n      <td>NaN</td>\n      <td>Salaried</td>\n      <td>Female</td>\n      <td>3</td>\n      <td>5.0</td>\n      <td>Basic</td>\n      <td>3.0</td>\n      <td>Married</td>\n      <td>4.0</td>\n      <td>0</td>\n      <td>4</td>\n      <td>1</td>\n      <td>2.0</td>\n      <td>Executive</td>\n      <td>NaN</td>\n    </tr>\n    <tr>\n      <th>572</th>\n      <td>200572</td>\n      <td>0</td>\n      <td>29.0</td>\n      <td>NaN</td>\n      <td>1</td>\n      <td>NaN</td>\n      <td>Small Business</td>\n      <td>Female</td>\n      <td>3</td>\n      <td>3.0</td>\n      <td>Deluxe</td>\n      <td>3.0</td>\n      <td>Divorced</td>\n      <td>5.0</td>\n      <td>0</td>\n      <td>2</td>\n      <td>1</td>\n      <td>0.0</td>\n      <td>Manager</td>\n      <td>NaN</td>\n    </tr>\n    <tr>\n      <th>576</th>\n      <td>200576</td>\n      <td>0</td>\n      <td>27.0</td>\n      <td>NaN</td>\n      <td>3</td>\n      <td>NaN</td>\n      <td>Small Business</td>\n      <td>Male</td>\n      <td>2</td>\n      <td>3.0</td>\n      <td>Deluxe</td>\n      <td>3.0</td>\n      <td>Divorced</td>\n      <td>1.0</td>\n      <td>0</td>\n      <td>3</td>\n      <td>0</td>\n      <td>1.0</td>\n      <td>Manager</td>\n      <td>NaN</td>\n    </tr>\n    <tr>\n      <th>579</th>\n      <td>200579</td>\n      <td>0</td>\n      <td>34.0</td>\n      <td>NaN</td>\n      <td>1</td>\n      <td>NaN</td>\n      <td>Small Business</td>\n      <td>Female</td>\n      <td>2</td>\n      <td>4.0</td>\n      <td>Basic</td>\n      <td>5.0</td>\n      <td>Single</td>\n      <td>2.0</td>\n      <td>0</td>\n      <td>2</td>\n      <td>1</td>\n      <td>1.0</td>\n      <td>Executive</td>\n      <td>NaN</td>\n    </tr>\n  </tbody>\n</table>\n</div>"
     },
     "execution_count": 34,
     "metadata": {},
     "output_type": "execute_result"
    }
   ],
   "source": [
    "# Segregating categorical variables from numerical.\n",
    "\n",
    "df[df.select_dtypes(exclude=np.number).isnull().any(axis=1)].head()"
   ],
   "metadata": {
    "collapsed": false,
    "pycharm": {
     "name": "#%%\n"
    }
   }
  },
  {
   "cell_type": "markdown",
   "source": [],
   "metadata": {
    "collapsed": false,
    "pycharm": {
     "name": "#%% md\n"
    }
   }
  },
  {
   "cell_type": "markdown",
   "source": [
    "> Taking 'Type Of Contact' column for our experiment. Row number 571,572,576 are NaN values."
   ],
   "metadata": {
    "collapsed": false,
    "pycharm": {
     "name": "#%% md\n"
    }
   }
  },
  {
   "cell_type": "code",
   "execution_count": 35,
   "outputs": [
    {
     "data": {
      "text/plain": "571             NaN\n572             NaN\n573    Self Enquiry\n574    Self Enquiry\n575    Self Enquiry\n576             NaN\nName: TypeofContact, dtype: object"
     },
     "execution_count": 35,
     "metadata": {},
     "output_type": "execute_result"
    }
   ],
   "source": [
    "# Picking NaN rows of 'Type of Contact' column\n",
    "\n",
    "df['TypeofContact'].iloc[571:577]"
   ],
   "metadata": {
    "collapsed": false,
    "pycharm": {
     "name": "#%%\n"
    }
   }
  },
  {
   "cell_type": "code",
   "execution_count": 36,
   "outputs": [
    {
     "data": {
      "text/plain": "0    Self Enquiry\nName: TypeofContact, dtype: object"
     },
     "execution_count": 36,
     "metadata": {},
     "output_type": "execute_result"
    }
   ],
   "source": [
    "# Finding mode value of Type of Contact column\n",
    "\n",
    "df['TypeofContact'].mode()"
   ],
   "metadata": {
    "collapsed": false,
    "pycharm": {
     "name": "#%%\n"
    }
   }
  },
  {
   "cell_type": "code",
   "execution_count": 37,
   "outputs": [],
   "source": [
    "# Assigning it to a variable\n",
    "\n",
    "Mode = df['TypeofContact'].mode()[0]"
   ],
   "metadata": {
    "collapsed": false,
    "pycharm": {
     "name": "#%%\n"
    }
   }
  },
  {
   "cell_type": "code",
   "execution_count": 38,
   "outputs": [
    {
     "data": {
      "text/plain": "571    Self Enquiry\n572    Self Enquiry\n573    Self Enquiry\n574    Self Enquiry\n575    Self Enquiry\n576    Self Enquiry\nName: TypeofContact, dtype: object"
     },
     "execution_count": 38,
     "metadata": {},
     "output_type": "execute_result"
    }
   ],
   "source": [
    "# Using fillna() function to fill NaN values with Mode value\n",
    "\n",
    "df['TypeofContact'].fillna(value=Mode).iloc[571:577]"
   ],
   "metadata": {
    "collapsed": false,
    "pycharm": {
     "name": "#%%\n"
    }
   }
  },
  {
   "cell_type": "markdown",
   "source": [],
   "metadata": {
    "collapsed": false,
    "pycharm": {
     "name": "#%% md\n"
    }
   }
  },
  {
   "cell_type": "markdown",
   "source": [
    "> #### Observation :-\n",
    "> - NaN values has been filled with mode value of Type of Contact column.\n",
    "> - Mode is one of the best method to fill categorical columns NaN values."
   ],
   "metadata": {
    "collapsed": false,
    "pycharm": {
     "name": "#%% md\n"
    }
   }
  },
  {
   "cell_type": "markdown",
   "source": [],
   "metadata": {
    "collapsed": false,
    "pycharm": {
     "name": "#%% md\n"
    }
   }
  },
  {
   "cell_type": "markdown",
   "source": [
    "> ## Method 6 :- KNN Imputer"
   ],
   "metadata": {
    "collapsed": false,
    "pycharm": {
     "name": "#%% md\n"
    }
   }
  },
  {
   "cell_type": "markdown",
   "source": [
    "> - **Impute** means to \"frame as\" or \"attribute\".\n",
    "> - Imputation is seen as a way to avoid pitfalls involved with listwise deletion of cases that have missing values.\n",
    "> - k-nearest neighbor (KNN)\n",
    "> - KNNImputer helps to impute missing values present in the observations by finding the nearest neighbors with the Euclidean distance matrix.\n",
    "> - KNNImputer works only for Numerical data."
   ],
   "metadata": {
    "collapsed": false,
    "pycharm": {
     "name": "#%% md\n"
    }
   }
  },
  {
   "cell_type": "code",
   "execution_count": 39,
   "outputs": [],
   "source": [
    "# Retrieving original dataset\n",
    "\n",
    "df = df_orig"
   ],
   "metadata": {
    "collapsed": false,
    "pycharm": {
     "name": "#%%\n"
    }
   }
  },
  {
   "cell_type": "code",
   "execution_count": 40,
   "outputs": [
    {
     "data": {
      "text/plain": "    CustomerID  ProdTaken   Age  CityTier  DurationOfPitch  \\\n17      200017          0  22.0         1             22.0   \n18      200018          0  53.0         3              8.0   \n19      200019          0   NaN         1              8.0   \n20      200020          0   NaN         1             17.0   \n21      200021          1   NaN         3             15.0   \n22      200022          0  34.0         1             13.0   \n\n    NumberOfPersonVisiting  NumberOfFollowups  PreferredPropertyStar  \\\n17                       3                2.0                    3.0   \n18                       3                4.0                    3.0   \n19                       2                3.0                    3.0   \n20                       3                2.0                    3.0   \n21                       2                4.0                    5.0   \n22                       2                3.0                    4.0   \n\n    NumberOfTrips  Passport  PitchSatisfactionScore  OwnCar  \\\n17            2.0         1                       3       0   \n18            3.0         0                       3       1   \n19            6.0         1                       4       0   \n20            1.0         0                       3       1   \n21            1.0         0                       2       0   \n22            1.0         0                       3       1   \n\n    NumberOfChildrenVisiting  MonthlyIncome  \n17                       0.0        17935.0  \n18                       0.0        30427.0  \n19                       1.0            NaN  \n20                       2.0            NaN  \n21                       0.0        18407.0  \n22                       0.0        26994.0  ",
      "text/html": "<div>\n<style scoped>\n    .dataframe tbody tr th:only-of-type {\n        vertical-align: middle;\n    }\n\n    .dataframe tbody tr th {\n        vertical-align: top;\n    }\n\n    .dataframe thead th {\n        text-align: right;\n    }\n</style>\n<table border=\"1\" class=\"dataframe\">\n  <thead>\n    <tr style=\"text-align: right;\">\n      <th></th>\n      <th>CustomerID</th>\n      <th>ProdTaken</th>\n      <th>Age</th>\n      <th>CityTier</th>\n      <th>DurationOfPitch</th>\n      <th>NumberOfPersonVisiting</th>\n      <th>NumberOfFollowups</th>\n      <th>PreferredPropertyStar</th>\n      <th>NumberOfTrips</th>\n      <th>Passport</th>\n      <th>PitchSatisfactionScore</th>\n      <th>OwnCar</th>\n      <th>NumberOfChildrenVisiting</th>\n      <th>MonthlyIncome</th>\n    </tr>\n  </thead>\n  <tbody>\n    <tr>\n      <th>17</th>\n      <td>200017</td>\n      <td>0</td>\n      <td>22.0</td>\n      <td>1</td>\n      <td>22.0</td>\n      <td>3</td>\n      <td>2.0</td>\n      <td>3.0</td>\n      <td>2.0</td>\n      <td>1</td>\n      <td>3</td>\n      <td>0</td>\n      <td>0.0</td>\n      <td>17935.0</td>\n    </tr>\n    <tr>\n      <th>18</th>\n      <td>200018</td>\n      <td>0</td>\n      <td>53.0</td>\n      <td>3</td>\n      <td>8.0</td>\n      <td>3</td>\n      <td>4.0</td>\n      <td>3.0</td>\n      <td>3.0</td>\n      <td>0</td>\n      <td>3</td>\n      <td>1</td>\n      <td>0.0</td>\n      <td>30427.0</td>\n    </tr>\n    <tr>\n      <th>19</th>\n      <td>200019</td>\n      <td>0</td>\n      <td>NaN</td>\n      <td>1</td>\n      <td>8.0</td>\n      <td>2</td>\n      <td>3.0</td>\n      <td>3.0</td>\n      <td>6.0</td>\n      <td>1</td>\n      <td>4</td>\n      <td>0</td>\n      <td>1.0</td>\n      <td>NaN</td>\n    </tr>\n    <tr>\n      <th>20</th>\n      <td>200020</td>\n      <td>0</td>\n      <td>NaN</td>\n      <td>1</td>\n      <td>17.0</td>\n      <td>3</td>\n      <td>2.0</td>\n      <td>3.0</td>\n      <td>1.0</td>\n      <td>0</td>\n      <td>3</td>\n      <td>1</td>\n      <td>2.0</td>\n      <td>NaN</td>\n    </tr>\n    <tr>\n      <th>21</th>\n      <td>200021</td>\n      <td>1</td>\n      <td>NaN</td>\n      <td>3</td>\n      <td>15.0</td>\n      <td>2</td>\n      <td>4.0</td>\n      <td>5.0</td>\n      <td>1.0</td>\n      <td>0</td>\n      <td>2</td>\n      <td>0</td>\n      <td>0.0</td>\n      <td>18407.0</td>\n    </tr>\n    <tr>\n      <th>22</th>\n      <td>200022</td>\n      <td>0</td>\n      <td>34.0</td>\n      <td>1</td>\n      <td>13.0</td>\n      <td>2</td>\n      <td>3.0</td>\n      <td>4.0</td>\n      <td>1.0</td>\n      <td>0</td>\n      <td>3</td>\n      <td>1</td>\n      <td>0.0</td>\n      <td>26994.0</td>\n    </tr>\n  </tbody>\n</table>\n</div>"
     },
     "execution_count": 40,
     "metadata": {},
     "output_type": "execute_result"
    }
   ],
   "source": [
    "# Picking dataset where we have NaN values in AGE & Monthly Income Columns\n",
    "\n",
    "df.iloc[17:23].select_dtypes(include=np.number)"
   ],
   "metadata": {
    "collapsed": false,
    "pycharm": {
     "name": "#%%\n"
    }
   }
  },
  {
   "cell_type": "code",
   "execution_count": 41,
   "outputs": [],
   "source": [
    "nan_df = df.iloc[17:23].select_dtypes(include=np.number)"
   ],
   "metadata": {
    "collapsed": false,
    "pycharm": {
     "name": "#%%\n"
    }
   }
  },
  {
   "cell_type": "code",
   "execution_count": 42,
   "outputs": [
    {
     "data": {
      "text/plain": "array([[2.00017e+05, 0.00000e+00, 2.20000e+01, 1.00000e+00, 2.20000e+01,\n        3.00000e+00, 2.00000e+00, 3.00000e+00, 2.00000e+00, 1.00000e+00,\n        3.00000e+00, 0.00000e+00, 0.00000e+00, 1.79350e+04],\n       [2.00018e+05, 0.00000e+00, 5.30000e+01, 3.00000e+00, 8.00000e+00,\n        3.00000e+00, 4.00000e+00, 3.00000e+00, 3.00000e+00, 0.00000e+00,\n        3.00000e+00, 1.00000e+00, 0.00000e+00, 3.04270e+04],\n       [2.00019e+05, 0.00000e+00, 4.35000e+01, 1.00000e+00, 8.00000e+00,\n        2.00000e+00, 3.00000e+00, 3.00000e+00, 6.00000e+00, 1.00000e+00,\n        4.00000e+00, 0.00000e+00, 1.00000e+00, 2.87105e+04],\n       [2.00020e+05, 0.00000e+00, 2.80000e+01, 1.00000e+00, 1.70000e+01,\n        3.00000e+00, 2.00000e+00, 3.00000e+00, 1.00000e+00, 0.00000e+00,\n        3.00000e+00, 1.00000e+00, 2.00000e+00, 2.27005e+04],\n       [2.00021e+05, 1.00000e+00, 2.80000e+01, 3.00000e+00, 1.50000e+01,\n        2.00000e+00, 4.00000e+00, 5.00000e+00, 1.00000e+00, 0.00000e+00,\n        2.00000e+00, 0.00000e+00, 0.00000e+00, 1.84070e+04],\n       [2.00022e+05, 0.00000e+00, 3.40000e+01, 1.00000e+00, 1.30000e+01,\n        2.00000e+00, 3.00000e+00, 4.00000e+00, 1.00000e+00, 0.00000e+00,\n        3.00000e+00, 1.00000e+00, 0.00000e+00, 2.69940e+04]])"
     },
     "execution_count": 42,
     "metadata": {},
     "output_type": "execute_result"
    }
   ],
   "source": [
    "imputer = KNNImputer(n_neighbors=2)\n",
    "After_imputation = imputer.fit_transform(nan_df)\n",
    "\n",
    "After_imputation"
   ],
   "metadata": {
    "collapsed": false,
    "pycharm": {
     "name": "#%%\n"
    }
   }
  },
  {
   "cell_type": "markdown",
   "source": [
    "> #### Observation :-\n",
    "> - Age & Monthly Income NaN values got replaced by means of nearest 2 neighbors in those series.\n",
    "> - After transforming the data becomes a numpy array.\n",
    "> - The missing value is predicted in reference to the mean of the neighbours."
   ],
   "metadata": {
    "collapsed": false,
    "pycharm": {
     "name": "#%% md\n"
    }
   }
  },
  {
   "cell_type": "markdown",
   "source": [],
   "metadata": {
    "collapsed": false,
    "pycharm": {
     "name": "#%% md\n"
    }
   }
  },
  {
   "cell_type": "markdown",
   "source": [
    "> ## Method 7 :- End of Distribution Imputation"
   ],
   "metadata": {
    "collapsed": false,
    "pycharm": {
     "name": "#%% md\n"
    }
   }
  },
  {
   "cell_type": "markdown",
   "source": [
    "> - In this method we replace missing values with far end values or extreme.\n",
    "> - Far end value means the values after 3rd stander deviation."
   ],
   "metadata": {
    "collapsed": false,
    "pycharm": {
     "name": "#%% md\n"
    }
   }
  },
  {
   "cell_type": "markdown",
   "source": [
    "![Distribution Pic](https://www.isixsigma.com/wp-content/uploads/2018/11/Screen-Shot-2022-06-13-at-10.20.58-AM.png)"
   ],
   "metadata": {
    "collapsed": false,
    "pycharm": {
     "name": "#%% md\n"
    }
   }
  },
  {
   "cell_type": "code",
   "execution_count": 43,
   "outputs": [
    {
     "data": {
      "text/plain": "CustomerID                    0\nProdTaken                     0\nAge                         226\nTypeofContact                25\nCityTier                      0\nDurationOfPitch             251\nOccupation                    0\nGender                        0\nNumberOfPersonVisiting        0\nNumberOfFollowups            45\nProductPitched                0\nPreferredPropertyStar        26\nMaritalStatus                 0\nNumberOfTrips               140\nPassport                      0\nPitchSatisfactionScore        0\nOwnCar                        0\nNumberOfChildrenVisiting     66\nDesignation                   0\nMonthlyIncome               233\ndtype: int64"
     },
     "execution_count": 43,
     "metadata": {},
     "output_type": "execute_result"
    }
   ],
   "source": [
    "df.isnull().sum()"
   ],
   "metadata": {
    "collapsed": false,
    "pycharm": {
     "name": "#%%\n"
    }
   }
  },
  {
   "cell_type": "markdown",
   "source": [],
   "metadata": {
    "collapsed": false,
    "pycharm": {
     "name": "#%% md\n"
    }
   }
  },
  {
   "cell_type": "markdown",
   "source": [
    "> #### Picking Monthly income as our column for experiment"
   ],
   "metadata": {
    "collapsed": false,
    "pycharm": {
     "name": "#%% md\n"
    }
   }
  },
  {
   "cell_type": "code",
   "execution_count": 44,
   "outputs": [
    {
     "data": {
      "text/plain": "1     20130.0\n11        NaN\n19        NaN\n20        NaN\n21    18407.0\nName: MonthlyIncome, dtype: float64"
     },
     "execution_count": 44,
     "metadata": {},
     "output_type": "execute_result"
    }
   ],
   "source": [
    "# Picking some rows from 'Monthly Income' column for reference\n",
    "\n",
    "df['MonthlyIncome'].iloc[[1, 11, 19, 20, 21]]"
   ],
   "metadata": {
    "collapsed": false,
    "pycharm": {
     "name": "#%%\n"
    }
   }
  },
  {
   "cell_type": "code",
   "execution_count": 45,
   "outputs": [
    {
     "data": {
      "text/plain": "23619.85349087003"
     },
     "execution_count": 45,
     "metadata": {},
     "output_type": "execute_result"
    }
   ],
   "source": [
    "# Finding mean of Monthly income feature\n",
    "\n",
    "mean = df['MonthlyIncome'].mean()\n",
    "mean"
   ],
   "metadata": {
    "collapsed": false,
    "pycharm": {
     "name": "#%%\n"
    }
   }
  },
  {
   "cell_type": "code",
   "execution_count": 46,
   "outputs": [
    {
     "data": {
      "text/plain": "5380.698360691634"
     },
     "execution_count": 46,
     "metadata": {},
     "output_type": "execute_result"
    }
   ],
   "source": [
    "# Finding Stander deviation of Monthly Income feature\n",
    "\n",
    "std = df['MonthlyIncome'].std()\n",
    "std"
   ],
   "metadata": {
    "collapsed": false,
    "pycharm": {
     "name": "#%%\n"
    }
   }
  },
  {
   "cell_type": "markdown",
   "source": [],
   "metadata": {
    "collapsed": false,
    "pycharm": {
     "name": "#%% md\n"
    }
   }
  },
  {
   "cell_type": "markdown",
   "source": [
    "- Now we have a mean and stander deviation of Age feature now we find the Far end values or extreme value\n",
    "- where extreme values means the values after 3rd stander deviation\n",
    "- so extreme = (Mean of Age Feature + ( 3 * stander deviation of Age Feature))"
   ],
   "metadata": {
    "collapsed": false,
    "pycharm": {
     "name": "#%% md\n"
    }
   }
  },
  {
   "cell_type": "code",
   "execution_count": 47,
   "outputs": [
    {
     "data": {
      "text/plain": "39761.94857294494"
     },
     "execution_count": 47,
     "metadata": {},
     "output_type": "execute_result"
    }
   ],
   "source": [
    "# Finding Extreme value\n",
    "\n",
    "extreme = (mean + (3*std) )\n",
    "\n",
    "extreme"
   ],
   "metadata": {
    "collapsed": false,
    "pycharm": {
     "name": "#%%\n"
    }
   }
  },
  {
   "cell_type": "markdown",
   "source": [],
   "metadata": {
    "collapsed": false,
    "pycharm": {
     "name": "#%% md\n"
    }
   }
  },
  {
   "cell_type": "markdown",
   "source": [
    "> Plotting a graph for better understanding"
   ],
   "metadata": {
    "collapsed": false,
    "pycharm": {
     "name": "#%% md\n"
    }
   }
  },
  {
   "cell_type": "code",
   "execution_count": 48,
   "outputs": [
    {
     "data": {
      "text/plain": "<Figure size 800x400 with 1 Axes>",
      "image/png": "[encoded data removed]"
     },
     "metadata": {},
     "output_type": "display_data"
    }
   ],
   "source": [
    "plt.figure(figsize=(8,4))\n",
    "df['MonthlyIncome'].plot(kind='kde', color='g')\n",
    "plt.legend()\n",
    "plt.show();"
   ],
   "metadata": {
    "collapsed": false,
    "pycharm": {
     "name": "#%%\n"
    }
   }
  },
  {
   "cell_type": "code",
   "execution_count": 61,
   "outputs": [
    {
     "data": {
      "text/plain": "<AxesSubplot:>"
     },
     "execution_count": 61,
     "metadata": {},
     "output_type": "execute_result"
    },
    {
     "data": {
      "text/plain": "<Figure size 640x480 with 1 Axes>",
      "image/png": "[encoded data removed]"
     },
     "metadata": {},
     "output_type": "display_data"
    }
   ],
   "source": [
    "df['MonthlyIncome'].hist(bins=100, color='r')"
   ],
   "metadata": {
    "collapsed": false,
    "pycharm": {
     "name": "#%%\n"
    }
   }
  },
  {
   "cell_type": "code",
   "execution_count": 50,
   "outputs": [
    {
     "data": {
      "text/plain": "<AxesSubplot:xlabel='MonthlyIncome'>"
     },
     "execution_count": 50,
     "metadata": {},
     "output_type": "execute_result"
    },
    {
     "data": {
      "text/plain": "<Figure size 640x480 with 1 Axes>",
      "image/png": "[encoded data removed]"
     },
     "metadata": {},
     "output_type": "display_data"
    }
   ],
   "source": [
    "sns.boxplot(df['MonthlyIncome'], color='c')"
   ],
   "metadata": {
    "collapsed": false,
    "pycharm": {
     "name": "#%%\n"
    }
   }
  },
  {
   "cell_type": "markdown",
   "source": [],
   "metadata": {
    "collapsed": false,
    "pycharm": {
     "name": "#%% md\n"
    }
   }
  },
  {
   "cell_type": "markdown",
   "source": [
    "- In above graphs we can see the outliers. Will act as our extreme value for imputation."
   ],
   "metadata": {
    "collapsed": false,
    "pycharm": {
     "name": "#%% md\n"
    }
   }
  },
  {
   "cell_type": "code",
   "execution_count": 51,
   "outputs": [],
   "source": [
    "# Creating a function to replace missing in Any column with extreme values\n",
    "\n",
    "def end_distribution(df,variable,extreme):\n",
    "\n",
    "    df[variable+'_median'] = df[variable].fillna(df[variable].median())\n",
    "    df[variable+'_end_distribution'] = df[variable].fillna(extreme)"
   ],
   "metadata": {
    "collapsed": false,
    "pycharm": {
     "name": "#%%\n"
    }
   }
  },
  {
   "cell_type": "code",
   "execution_count": 52,
   "outputs": [],
   "source": [
    "end_distribution(df, 'MonthlyIncome', extreme)"
   ],
   "metadata": {
    "collapsed": false,
    "pycharm": {
     "name": "#%%\n"
    }
   }
  },
  {
   "cell_type": "code",
   "execution_count": 53,
   "outputs": [
    {
     "data": {
      "text/plain": "    MonthlyIncome  MonthlyIncome_median  MonthlyIncome_end_distribution\n1         20130.0               20130.0                    20130.000000\n11            NaN               22347.0                    39761.948573\n19            NaN               22347.0                    39761.948573\n20            NaN               22347.0                    39761.948573\n21        18407.0               18407.0                    18407.000000",
      "text/html": "<div>\n<style scoped>\n    .dataframe tbody tr th:only-of-type {\n        vertical-align: middle;\n    }\n\n    .dataframe tbody tr th {\n        vertical-align: top;\n    }\n\n    .dataframe thead th {\n        text-align: right;\n    }\n</style>\n<table border=\"1\" class=\"dataframe\">\n  <thead>\n    <tr style=\"text-align: right;\">\n      <th></th>\n      <th>MonthlyIncome</th>\n      <th>MonthlyIncome_median</th>\n      <th>MonthlyIncome_end_distribution</th>\n    </tr>\n  </thead>\n  <tbody>\n    <tr>\n      <th>1</th>\n      <td>20130.0</td>\n      <td>20130.0</td>\n      <td>20130.000000</td>\n    </tr>\n    <tr>\n      <th>11</th>\n      <td>NaN</td>\n      <td>22347.0</td>\n      <td>39761.948573</td>\n    </tr>\n    <tr>\n      <th>19</th>\n      <td>NaN</td>\n      <td>22347.0</td>\n      <td>39761.948573</td>\n    </tr>\n    <tr>\n      <th>20</th>\n      <td>NaN</td>\n      <td>22347.0</td>\n      <td>39761.948573</td>\n    </tr>\n    <tr>\n      <th>21</th>\n      <td>18407.0</td>\n      <td>18407.0</td>\n      <td>18407.000000</td>\n    </tr>\n  </tbody>\n</table>\n</div>"
     },
     "execution_count": 53,
     "metadata": {},
     "output_type": "execute_result"
    }
   ],
   "source": [
    "# Checking our Monthly Income column along with 2 new columns to make picture clear.\n",
    "\n",
    "df[['MonthlyIncome', 'MonthlyIncome_median', 'MonthlyIncome_end_distribution']].iloc[[1, 11, 19, 20, 21]]"
   ],
   "metadata": {
    "collapsed": false,
    "pycharm": {
     "name": "#%%\n"
    }
   }
  },
  {
   "cell_type": "markdown",
   "source": [],
   "metadata": {
    "collapsed": false,
    "pycharm": {
     "name": "#%% md\n"
    }
   }
  },
  {
   "cell_type": "code",
   "execution_count": 54,
   "outputs": [
    {
     "data": {
      "text/plain": "<Figure size 1000x600 with 1 Axes>",
      "image/png": "[encoded data removed]"
     },
     "metadata": {},
     "output_type": "display_data"
    }
   ],
   "source": [
    "plt.figure(figsize=(10,6))\n",
    "df['MonthlyIncome_end_distribution'].plot(kind='kde',color='b')\n",
    "df['MonthlyIncome_median'].plot(kind='kde',color='y')\n",
    "plt.legend()\n",
    "plt.show();"
   ],
   "metadata": {
    "collapsed": false,
    "pycharm": {
     "name": "#%%\n"
    }
   }
  },
  {
   "cell_type": "markdown",
   "source": [],
   "metadata": {
    "collapsed": false,
    "pycharm": {
     "name": "#%% md\n"
    }
   }
  },
  {
   "cell_type": "markdown",
   "source": [
    "> Now we can see that\n",
    "> - when we replace NaN with median then it show distortion\n",
    "> - but it overcome when we replace NaN with End of Distribution.\n",
    "> - EoD also shifts our Lower and higher fences to outer side, reducing the number of outliers."
   ],
   "metadata": {
    "collapsed": false,
    "pycharm": {
     "name": "#%% md\n"
    }
   }
  },
  {
   "cell_type": "markdown",
   "source": [
    "------------------------------------------------------------------------------"
   ],
   "metadata": {
    "collapsed": false,
    "pycharm": {
     "name": "#%% md\n"
    }
   }
  },
  {
   "cell_type": "markdown",
   "source": [],
   "metadata": {
    "collapsed": false,
    "pycharm": {
     "name": "#%% md\n"
    }
   }
  },
  {
   "cell_type": "code",
   "execution_count": 54,
   "outputs": [],
   "source": [],
   "metadata": {
    "collapsed": false,
    "pycharm": {
     "name": "#%%\n"
    }
   }
  }
 ],
 "metadata": {
  "kernelspec": {
   "display_name": "Python 3",
   "language": "python",
   "name": "python3"
  },
  "language_info": {
   "codemirror_mode": {
    "name": "ipython",
    "version": 2
   },
   "file_extension": ".py",
   "mimetype": "text/x-python",
   "name": "python",
   "nbconvert_exporter": "python",
   "pygments_lexer": "ipython2",
   "version": "2.7.6"
  }
 },
 "nbformat": 4,
 "nbformat_minor": 0
}